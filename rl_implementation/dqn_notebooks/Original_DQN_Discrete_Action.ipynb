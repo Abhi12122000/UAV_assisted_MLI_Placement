{
  "cells": [
    {
      "cell_type": "markdown",
      "metadata": {
        "id": "ujmwKQ0DZw4o"
      },
      "source": [
        "## Import the necessary software libraries:"
      ]
    },
    {
      "cell_type": "code",
      "source": [
        "!pip install gym==0.15.3"
      ],
      "metadata": {
        "colab": {
          "base_uri": "https://localhost:8080/"
        },
        "id": "hQ9UtLxWmWDz",
        "outputId": "2dd670d7-ffe8-430c-82ff-744e82a47626"
      },
      "execution_count": 1,
      "outputs": [
        {
          "output_type": "stream",
          "name": "stdout",
          "text": [
            "Looking in indexes: https://pypi.org/simple, https://us-python.pkg.dev/colab-wheels/public/simple/\n",
            "Collecting gym==0.15.3\n",
            "  Downloading gym-0.15.3.tar.gz (1.6 MB)\n",
            "\u001b[2K     \u001b[90m━━━━━━━━━━━━━━━━━━━━━━━━━━━━━━━━━━━━━━━━\u001b[0m \u001b[32m1.6/1.6 MB\u001b[0m \u001b[31m43.6 MB/s\u001b[0m eta \u001b[36m0:00:00\u001b[0m\n",
            "\u001b[?25h  Preparing metadata (setup.py) ... \u001b[?25l\u001b[?25hdone\n",
            "Requirement already satisfied: scipy in /usr/local/lib/python3.10/dist-packages (from gym==0.15.3) (1.10.1)\n",
            "Requirement already satisfied: numpy>=1.10.4 in /usr/local/lib/python3.10/dist-packages (from gym==0.15.3) (1.22.4)\n",
            "Requirement already satisfied: six in /usr/local/lib/python3.10/dist-packages (from gym==0.15.3) (1.16.0)\n",
            "Collecting pyglet<=1.3.2,>=1.2.0 (from gym==0.15.3)\n",
            "  Downloading pyglet-1.3.2-py2.py3-none-any.whl (1.0 MB)\n",
            "\u001b[2K     \u001b[90m━━━━━━━━━━━━━━━━━━━━━━━━━━━━━━━━━━━━━━━━\u001b[0m \u001b[32m1.0/1.0 MB\u001b[0m \u001b[31m72.2 MB/s\u001b[0m eta \u001b[36m0:00:00\u001b[0m\n",
            "\u001b[?25hCollecting cloudpickle~=1.2.0 (from gym==0.15.3)\n",
            "  Downloading cloudpickle-1.2.2-py2.py3-none-any.whl (25 kB)\n",
            "Requirement already satisfied: future in /usr/local/lib/python3.10/dist-packages (from pyglet<=1.3.2,>=1.2.0->gym==0.15.3) (0.18.3)\n",
            "Building wheels for collected packages: gym\n",
            "  Building wheel for gym (setup.py) ... \u001b[?25l\u001b[?25hdone\n",
            "  Created wheel for gym: filename=gym-0.15.3-py3-none-any.whl size=1644944 sha256=7c9c8491298680515ef1f9b167c79e2926908dee9fa9e514ac9985794af32042\n",
            "  Stored in directory: /root/.cache/pip/wheels/dc/4c/1c/25048a3f2e8540c60bbba0c25d8400f959205db1048431873a\n",
            "Successfully built gym\n",
            "Installing collected packages: cloudpickle, pyglet, gym\n",
            "  Attempting uninstall: cloudpickle\n",
            "    Found existing installation: cloudpickle 2.2.1\n",
            "    Uninstalling cloudpickle-2.2.1:\n",
            "      Successfully uninstalled cloudpickle-2.2.1\n",
            "  Attempting uninstall: gym\n",
            "    Found existing installation: gym 0.25.2\n",
            "    Uninstalling gym-0.25.2:\n",
            "      Successfully uninstalled gym-0.25.2\n",
            "\u001b[31mERROR: pip's dependency resolver does not currently take into account all the packages that are installed. This behaviour is the source of the following dependency conflicts.\n",
            "distributed 2022.12.1 requires cloudpickle>=1.5.0, but you have cloudpickle 1.2.2 which is incompatible.\n",
            "tensorflow-probability 0.20.1 requires cloudpickle>=1.3, but you have cloudpickle 1.2.2 which is incompatible.\u001b[0m\u001b[31m\n",
            "\u001b[0mSuccessfully installed cloudpickle-1.2.2 gym-0.15.3 pyglet-1.3.2\n"
          ]
        }
      ]
    },
    {
      "cell_type": "code",
      "execution_count": 2,
      "metadata": {
        "id": "lgcMITndZw4p"
      },
      "outputs": [],
      "source": [
        "import random\n",
        "import copy\n",
        "import gym\n",
        "import torch\n",
        "import torch.nn.functional as F\n",
        "import math\n",
        "import matplotlib.pyplot as plt\n",
        "from torch import nn as nn\n",
        "from torch.optim import AdamW\n",
        "from tqdm import tqdm\n",
        "import numpy as np\n",
        "from gym import wrappers, Env, spaces\n",
        "# from utils import test_agent, plot_stats, seed_everything"
      ]
    },
    {
      "cell_type": "markdown",
      "metadata": {
        "id": "ecN67F7oZw4q"
      },
      "source": [
        "## Create and prepare the environment"
      ]
    },
    {
      "cell_type": "markdown",
      "metadata": {
        "id": "R0-U9o86Zw4q"
      },
      "source": [
        "### Create the environment"
      ]
    },
    {
      "cell_type": "code",
      "execution_count": 3,
      "metadata": {
        "id": "oPtCGfTmZw4q"
      },
      "outputs": [],
      "source": [
        "import os\n",
        "os.environ[\"KMP_DUPLICATE_LIB_OK\"]=\"TRUE\""
      ]
    },
    {
      "cell_type": "code",
      "source": [
        "# class Single_Agent_UAV(Env):\n",
        "#     def __init__(self, initial_UAV_state = None):\n",
        "#         super(Single_Agent_UAV, self).__init__()\n",
        "\n",
        "#         #self.initial_UAV_state = initial_UAV_state\n",
        "#         self.initial_UAV_state = np.array([50,50])\n",
        "#         self.UE_count = 30\n",
        "#         self.Z = 20\n",
        "#         self.horizontal_dist_max = 20\n",
        "#         self.max_angle = 2 * math.pi\n",
        "#         # self.dz_max = 20\n",
        "#         self.phi_n = np.radians(42.44)  # in degrees\n",
        "#         self.C_max_t = (self.Z / np.tan(self.phi_n))\n",
        "#         self.boundary_x = self.boundary_y = 100.\n",
        "#         self.max_episode_steps = 20 # Maximum number of steps in a single episode, after which environment returns done = True\n",
        "#         self.current_episode_timestep = 0\n",
        "#         self.done = False\n",
        "#         self.action_step_size = self.boundary_x / 25.\n",
        "\n",
        "#         # self.action_space_coversion_lb = np.array([0, 0])\n",
        "#         # self.action_space_coversion_ub = np.array([self.horizontal_dist_max, self.max_angle])\n",
        "\n",
        "#         # self.action_space_lb = -1 * np.ones(2)\n",
        "#         # self.action_space_ub = np.ones(2)\n",
        "#         self.state_space_lb = np.array([0 for i in range(self.UE_count + 2)])\n",
        "#         self.state_space_ub = [self.boundary_x, self.boundary_y]\n",
        "#         for i in range(self.UE_count):\n",
        "#             self.state_space_ub.append(1)\n",
        "#         self.state_space_ub = np.array(self.state_space_ub)\n",
        "        \n",
        "#         # plotting parameters\n",
        "#         self.plotting_boundary_buffer = 5.\n",
        "#         self.UAV_coverage_circle_color = 'lavender'\n",
        "#         self.EC_concentrated_region_color = 'mistyrose'\n",
        "#         self.UAV_path_color = 'green'\n",
        "\n",
        "\n",
        "# #         defining action space\n",
        "#         self.state_space = gym.spaces.box.Box(low = self.state_space_lb, high = self.state_space_ub)\n",
        "# #         defining observation space\n",
        "#         self.action_space = spaces.Discrete(9)\n",
        "\n",
        "#         self.place_UEs(position=\"centered\", center = None)\n",
        "#         self.action_conversion()\n",
        "\n",
        "\n",
        "#     def action_conversion(self):\n",
        "#         self.n_actions = self.action_space.n\n",
        "#         # HARDCODED FOR n=9\n",
        "#         diag = (1 / math.sqrt(2))\n",
        "#         self.index_to_action_mapper = [(0, 0 ), (1, 0), (diag, diag), (0, 1), (-diag, diag), (-1, 0), (-diag, -diag), (0, -1), (diag, -diag)]  # angle changes in clockwise fashion\n",
        "#         return\n",
        "\n",
        "\n",
        "#     def reset(self):\n",
        "#         self.current_state = np.array(self.initial_UAV_state)\n",
        "#         horizontal_dist_UE_UAV = np.linalg.norm(self.UE_positions - self.current_state[:2], axis = 1)\n",
        "#         rho_array = (horizontal_dist_UE_UAV <= (self.C_max_t)) * 1  # binary association vector\n",
        "#         self.current_state = np.concatenate((self.current_state[:2], rho_array))\n",
        "#         self.timesteps_in_episode = 0\n",
        "#         self.done = False\n",
        "#         return self.current_state\n",
        "    \n",
        "    \n",
        "#     def get_count_of_UEs_covered(self):\n",
        "#         '''\n",
        "#         Returns count of UEs covered under UAV's current configuration\n",
        "#         '''\n",
        "\n",
        "#         ground_UAV_state = self.current_state[:2]\n",
        "#         horizontal_dist_UE_UAV = np.linalg.norm(self.UE_positions - ground_UAV_state, axis = 1)\n",
        "#         # print(\"horizontal distance b/w UEs and UAV: \", horizontal_dist_UE_UAV)\n",
        "#         rho_array = (horizontal_dist_UE_UAV <= (self.C_max_t)) * 1  # binary association vector\n",
        "#         M_t = rho_array.sum()\n",
        "\n",
        "#         return M_t\n",
        "\n",
        "\n",
        "#     def render(self, **kwargs):\n",
        "#         '''\n",
        "#         Function to visualize UAV position\n",
        "#         (this function has different configurations for different use cases)\n",
        "#         '''\n",
        "\n",
        "#         if 'UAV_positions_list' in kwargs:\n",
        "#             self.render_UAV_movement_through_episode(UAV_positions_list = kwargs['UAV_positions_list'])\n",
        "\n",
        "#         if 'fig' not in kwargs:\n",
        "#             fig, ax = plt.subplots(1, 2, figsize=(20,10))\n",
        "#             ax = np.array([ax])\n",
        "#             kwargs['fig'] = fig\n",
        "#             kwargs['ax'] = ax\n",
        "#             kwargs['i'] = 0\n",
        "        \n",
        "#         if 'reward' not in kwargs:\n",
        "#             kwargs['reward'] = 'Not known'\n",
        "#         self.render_position_plot(**kwargs)\n",
        "\n",
        "\n",
        "#     def step(self, action):\n",
        "#         '''\n",
        "#         Takes action moving environment from current_state to next_state\n",
        "#         Arguments: `action` to be taken\n",
        "#         Returns: new_state, reward, done, info(=None)\n",
        "#         '''\n",
        "#         # action = action.numpy().flatten()\n",
        "#         err_msg = f\"{action!r} ({type(action)}) invalid\"\n",
        "#         assert self.action_space.contains(action), err_msg\n",
        "#         assert self.current_state is not None, \"Call reset before using step method.\"\n",
        "\n",
        "\n",
        "#         self.timesteps_in_episode += 1\n",
        "#         prev_UAV_state = self.current_state\n",
        "#         _, inside_bounds = self.move(action)\n",
        "#         # print(type(self.current_state), type(prev_UAV_state))\n",
        "#         if not inside_bounds:\n",
        "#             # MENTIONED OUTPUT IS OUT OF BOUNDS\n",
        "#             self.is_done(end = True)\n",
        "#             reward = -500\n",
        "#             return self.current_state, reward, self.done, None\n",
        "\n",
        "#         ground_UAV_state = self.current_state[:2]\n",
        "#         horizontal_dist_UE_UAV = np.linalg.norm(self.UE_positions - ground_UAV_state, axis = 1)\n",
        "#         rho_array = (horizontal_dist_UE_UAV <= (self.C_max_t)) * 1  # binary association vector\n",
        "#         self.current_state = np.concatenate((self.current_state[:2], rho_array))\n",
        "#         M_t = rho_array.sum()  # no. of UEs served by the agent\n",
        "\n",
        "#         reward = M_t * 10         \n",
        "#         self.is_done(M_t)\n",
        "        \n",
        "#         return self.current_state, reward, self.done, None\n",
        "    \n",
        "\n",
        "#     def move(self, action):\n",
        "#         '''\n",
        "#         Helper function to step() function.\n",
        "#         Clips the passed action to fit within action space bounds.\n",
        "#         Calculates new state after performing the passed action, and updates UAV position accordingly. \n",
        "#         '''\n",
        "# #         evaluates new state reached upon performing the move and saves it in self.current_state\n",
        "#         # ACTION = [dx, dy]\n",
        "#         x_next = self.current_state[0] + (self.index_to_action_mapper[action][0] * self.action_step_size)\n",
        "#         y_next = self.current_state[1] + (self.index_to_action_mapper[action][1] * self.action_step_size)\n",
        "        \n",
        "#     # updating horizontal_direction_angle if the new move is out of boundary\n",
        "#         if((x_next < 0) or (x_next > self.boundary_x) or (y_next < 0) or (y_next > self.boundary_y)):\n",
        "#             # UAV REMAINS IN ITS CURRENT POSITION\n",
        "#             return action, False\n",
        "\n",
        "#         self.current_state[:2] = np.array([x_next, y_next])\n",
        "#         return action, True\n",
        "\n",
        "\n",
        "#     def is_done(self, M_t=0, end=False):\n",
        "#         '''\n",
        "#         Helper function to check if episode needs to be terminated\n",
        "#         '''\n",
        "#         if end == True:\n",
        "#             self.done = True\n",
        "#         # if M_t >= int(0.6 * self.UE_count):\n",
        "#         #     self.done = True\n",
        "#         elif(self.timesteps_in_episode >= self.max_episode_steps):\n",
        "#             self.done = True\n",
        "#         return\n",
        "\n",
        "    \n",
        "#     def select_random_state(self):\n",
        "#         '''\n",
        "#         Selects (and returns) random initial state (within bounds) for the UAV\n",
        "#         '''\n",
        "#         new_x = np.random.uniform(0.0, self.boundary_x)\n",
        "#         new_y = np.random.uniform(0.0, self.boundary_y)\n",
        "#         return np.array([new_x, new_y])\n",
        "    \n",
        "\n",
        "#     def place_UEs_centered(self, center = None, centered_UE_count = None):\n",
        "#         '''\n",
        "#         Helper function to place_UEs\n",
        "#         Places `centered_UE_count` UEs within a circle with center `center` and radius `C_max_t`.\n",
        "#         Places remaining UEs (UE_count - centered_UE_count) randomly inside the area barring the above circular region\n",
        "#         Arguments: \n",
        "#             desired_z_coord: Z coordinate with which to calculate radius C_max_t for centering UEs\n",
        "#             center: Provides center of circular region in which UEs will be scattered\n",
        "#             centered_UE_count: Number of UEs to be placed within the circular region created using previous arguments\n",
        "#         '''\n",
        "\n",
        "#         if centered_UE_count is None:\n",
        "#           centered_UE_count = self.UE_count\n",
        "#         # focuses the UEs inside the circular region\n",
        "#         radius = self.C_max_t\n",
        "#         if(center == None):\n",
        "#             # (x, y) co-ordinates\n",
        "#             x = np.random.uniform(0, self.boundary_x)\n",
        "#             y = np.random.uniform(0, self.boundary_y)\n",
        "#             center = np.array([x, y])\n",
        "\n",
        "#         r = radius * np.sqrt(np.random.uniform(size = centered_UE_count))\n",
        "#         theta = np.random.uniform(size = centered_UE_count) * 2 * math.pi\n",
        "\n",
        "#         self.UE_center = center\n",
        "#         self.UE_radius = radius\n",
        "        \n",
        "\n",
        "#         self.UE_positions = np.zeros((centered_UE_count, 2))\n",
        "#         self.UE_positions[:, 0] = np.clip(center[0] + r * np.cos(theta), 0., self.boundary_x) \n",
        "#         self.UE_positions[:, 1] = np.clip(center[1] + r * np.sin(theta), 0., self.boundary_y)\n",
        "#         return\n",
        "\n",
        "\n",
        "#     def place_UEs_randomly(self, random_UE_count = None, **kwargs):\n",
        "#         '''\n",
        "#         Helper function to place_UEs\n",
        "#         places `random_UE_count` UEs randomly onto the rectangular region\n",
        "#         if kwargs has the key `exclude_center`, then the circular region spanned by `exclude_center` \\\n",
        "#         and `exclude_radius` is excluded\n",
        "\n",
        "#         '''\n",
        "\n",
        "#         if random_UE_count is None:\n",
        "#           random_UE_count = self.UE_count\n",
        "\n",
        "#         # places UE_count UEs on grid randomly\n",
        "#         if type(self.UE_positions) == np.ndarray:\n",
        "#             self.UE_positions = self.UE_positions.tolist()\n",
        "\n",
        "#         randomly_placed_count = 0\n",
        "#         while(randomly_placed_count < random_UE_count):\n",
        "#             x = np.random.uniform(0, self.boundary_x)\n",
        "#             y = np.random.uniform(0, self.boundary_y)\n",
        "#             coords = np.array([x, y])\n",
        "#             if 'exclude_center' in kwargs:\n",
        "#                 if (np.linalg.norm(coords - kwargs['exclude_center']) <= kwargs['exclude_radius']):\n",
        "#                     continue\n",
        "#             self.UE_positions.append(coords)\n",
        "#             randomly_placed_count += 1\n",
        "\n",
        "#         self.UE_positions = np.array(self.UE_positions)\n",
        "\n",
        "\n",
        "#     def place_UEs(self, position=\"random\", center = None):\n",
        "#         '''\n",
        "#         Function to place UEs onto the rectangular region\n",
        "#         Arguments:\n",
        "#             position: has 2 modes, \"random\" and \"centered\", representing the two configuration for scattering UEs\n",
        "#             desired_z_coord: if position=\"centered\", this argument gives height with which to calculate radius of circular region\n",
        "#             center: if position=\"centered\", this argument provides center of circular region\n",
        "#         '''\n",
        "\n",
        "#         self.UE_center = None  # initializing for non-centered generation algorithms\n",
        "\n",
        "#         if(position==\"centered\"):\n",
        "#             ratio = 0.65\n",
        "#             centered_count = int(ratio * self.UE_count)\n",
        "#             self.place_UEs_centered(center, centered_count)\n",
        "#             if(self.UE_count - centered_count > 0):\n",
        "#                 self.place_UEs_randomly(self.UE_count - centered_count, exclude_center = self.UE_center, exclude_radius = self.UE_radius)\n",
        "#         elif(position==\"random\"):\n",
        "#             self.place_UEs_randomly()\n",
        "\n",
        "#         # saves in self.UE_positions\n",
        "#         self.UE_positions = np.array(self.UE_positions)\n",
        "#         return\n",
        "\n",
        "\n",
        "#     def render_policy_plot(self, **kwargs):\n",
        "\n",
        "#         fig, ax = plt.subplots(1, figsize=(10,10))\n",
        "#         position_action_list = kwargs['position_action_list']\n",
        "#         for position_action in position_action_list:\n",
        "#             position = position_action[0]\n",
        "#             action = position_action[1]\n",
        "#             new_state = self.move(action, get_new_state=True)\n",
        "#             ax.arrow(position[0], position[1], new_state[0] - position[0], new_state[1] - position[1], head_width=0.09, head_length=0.1)\n",
        "#         plt.show()\n",
        "#         return\n",
        "\n",
        "\n",
        "#     def render_bar_plot(self, ax, plot_number, idx):\n",
        "#         '''\n",
        "#         Plotting bar graph of each UE's fraction of tasks assigned to UAV and to EC, by the last action input given to step() function\n",
        "#         '''\n",
        "#         x_indices = np.arange(self.UE_count)\n",
        "#         width = 0.5\n",
        "\n",
        "#         gamma_array = (np.array(self.last_action[4:])).reshape((self.UE_count, self.EC_count))\n",
        "#         gamma_zeros = (1 - gamma_array.sum(axis = 1))\n",
        "        \n",
        "#         ax[plot_number, idx].bar(x_indices, gamma_zeros, width=width)\n",
        "#         for i in range(self.EC_count):\n",
        "#             ax[plot_number, idx].bar(x_indices, gamma_array[:, i], width=width)\n",
        "        \n",
        "    \n",
        "#     def render_position_plot(self, **kwargs):\n",
        "#         '''\n",
        "#         Helper function to render(), plots the current position plot on given axes. \n",
        "#         Plotting position plot of UAV's current position and coverage\n",
        "#         '''\n",
        "#         ax = kwargs['ax']\n",
        "#         plot_number = kwargs['i']\n",
        "#         idx = 0\n",
        "#         reward = kwargs['reward']\n",
        "\n",
        "#         buffer = 5.\n",
        "#         ax[plot_number, idx].set_xlim(-buffer, self.boundary_x+buffer)\n",
        "#         ax[plot_number, idx].set_ylim(-buffer, self.boundary_y+buffer)\n",
        "#         ax[plot_number, idx].grid()\n",
        "#         UE_x = self.UE_positions[:, 0]\n",
        "#         UE_y = self.UE_positions[:, 1]\n",
        "#         ax[plot_number, idx].plot(UE_x, UE_y, color='black', marker='o', markersize=6, linestyle = '', label = \"UE\")\n",
        "        \n",
        "#         ax[plot_number, idx].plot(self.current_state[0], self.current_state[1], color='blue', marker='x', markersize=9, linestyle = '', label = \"UAV\")\n",
        "        \n",
        "#         UAV_coverage_area = plt.Circle((self.current_state[0] , self.current_state[1] ), self.C_max_t, color = self.UAV_coverage_circle_color)\n",
        "#         ax[plot_number, idx].add_artist(UAV_coverage_area)\n",
        "      \n",
        "#       # For testing: To plot the circle and visualize UE points inside it\n",
        "#         if self.UE_center is not None:\n",
        "#             Test_UE_allotment_circle = plt.Circle((self.UE_center[0] , self.UE_center[1]), self.UE_radius, color = self.EC_concentrated_region_color)\n",
        "#             ax[plot_number, idx].add_artist(Test_UE_allotment_circle)\n",
        "#       # End\n",
        "\n",
        "#         if 'learnt_policy_visualization' in kwargs:\n",
        "#             position_action_list = kwargs['position_action_list']\n",
        "#             for position_action in position_action_list:\n",
        "#                 position = position_action[0]\n",
        "#                 action = position_action[1]\n",
        "#                 action = np.clip(action, self.action_space_lb, self.action_space_ub)\n",
        "#                 action = (((self.action_space_coversion_ub - self.action_space_coversion_lb) * (action + 1)) / 2) + self.action_space_coversion_lb\n",
        "#                 print(\"scaled action: \", action)\n",
        "#                 # print(\"action after scaling: \", action)\n",
        "#                 new_state = self.move(action, get_new_state=True, provided_center=position)\n",
        "#                 print(\"previous state: \", position, \", new state: \", new_state)\n",
        "#                 # print(\"new_state: \", new_state)\n",
        "#                 ax[plot_number, idx].plot(position[0], position[1], color='blue', marker='o', markersize=6, linestyle = '')\n",
        "#                 ax[plot_number, idx].plot(new_state[0], new_state[1], color='orange', marker='o', markersize=6, linestyle = '')\n",
        "#                 ax[plot_number, idx].arrow(position[0], position[1], new_state[0] - position[0], new_state[1] - position[1], head_width=0.2, head_length=0.1)\n",
        "\n",
        "\n",
        "#         ax[plot_number, idx].set_aspect(1)\n",
        "#         # naming the x axis\n",
        "#         ax[plot_number, idx].set_xlabel('X pos (m)')\n",
        "#         # naming the y axis\n",
        "#         ax[plot_number, idx].set_ylabel('Y pos (m)')\n",
        "#         ax[plot_number, idx].set_title('reward: ' + str(reward))\n",
        "#         # giving a title to my graph\n",
        "#         # plt.title('Visually Appealing!')\n",
        "\n",
        "#         # show a legend on the plot\n",
        "#         ax[plot_number, idx].legend()\n",
        "#         # plt.show()"
      ],
      "metadata": {
        "id": "asK2dn_xcpMr"
      },
      "execution_count": 4,
      "outputs": []
    },
    {
      "cell_type": "code",
      "source": [
        "class Single_Agent_UAV(Env):\n",
        "    def __init__(self, initial_UAV_state = None):\n",
        "        super(Single_Agent_UAV, self).__init__()\n",
        "\n",
        "        self.UAV_count = 3\n",
        "        #self.initial_UAV_state = initial_UAV_state\n",
        "        self.UE_count = 200\n",
        "        self.Z = 20\n",
        "        self.horizontal_dist_max = 20\n",
        "        self.max_angle = 2 * math.pi\n",
        "        # self.dz_max = 20\n",
        "        self.phi_n = np.radians(42.44)  # in degrees\n",
        "        self.C_max_t = (self.Z / np.tan(self.phi_n))\n",
        "        # self.D_min = (2 * C_max_t) + self.boundary_x / 25.\n",
        "        self.C_max_t_array = np.array([self.C_max_t for _ in range(self.UAV_count)])\n",
        "        self.boundary_x = self.boundary_y = 150.\n",
        "        self.max_episode_steps = 50 # Maximum number of steps in a single episode, after which environment returns done = True\n",
        "        self.current_episode_timestep = 0\n",
        "        self.done = False\n",
        "        self.action_step_size = self.boundary_x / 25.\n",
        "        self.initial_UAV_state = self.select_random_state()\n",
        "        self.current_state = self.initial_UAV_state\n",
        "\n",
        "        # self.action_space_coversion_lb = np.array([0, 0])\n",
        "        # self.action_space_coversion_ub = np.array([self.horizontal_dist_max, self.max_angle])\n",
        "\n",
        "        # self.action_space_lb = -1 * np.ones(2)\n",
        "        # self.action_space_ub = np.ones(2)\n",
        "        self.state_space_lb = np.array([0, 0], dtype = np.float32)\n",
        "        self.state_space_ub = np.array([self.boundary_x, self.boundary_y], dtype = np.float32)\n",
        "        \n",
        "        # plotting parameters\n",
        "        self.plotting_boundary_buffer = 5.\n",
        "        self.UAV_coverage_circle_color = 'lavender'\n",
        "        self.EC_concentrated_region_color = 'mistyrose'\n",
        "        self.UAV_path_color = 'green'\n",
        "\n",
        "\n",
        "#         defining action space\n",
        "        self.state_space = np.array([gym.spaces.box.Box(low = self.state_space_lb, high = self.state_space_ub) for i in range(self.UAV_count)])\n",
        "#         defining observation space\n",
        "        self.action_space = np.array([spaces.Discrete(9) for i in range(self.UAV_count)])\n",
        "\n",
        "        self.place_UEs(position=\"centered\", center = None)\n",
        "        self.action_conversion()\n",
        "\n",
        "\n",
        "    def action_conversion(self):\n",
        "        self.n_actions = self.action_space[0].n\n",
        "        # HARDCODED FOR n=9\n",
        "        diag = (1 / math.sqrt(2))\n",
        "        self.index_to_action_mapper = [(0, 0 ), (1, 0), (diag, diag), (0, 1), (-diag, diag), (-1, 0), (-diag, -diag), (0, -1), (diag, -diag)]  # angle changes in clockwise fashion\n",
        "        return\n",
        "\n",
        "\n",
        "    def reset(self):\n",
        "        # RANDOMLY SELECTS UAV STARTING POSITION\n",
        "        self.current_state = self.select_random_state()\n",
        "        \n",
        "        # RESETS UAV STARTING POSITION TO self.initial_UAV_state\n",
        "        self.current_state = self.initial_UAV_state\n",
        "\n",
        "        # FOLLOWING 3 LINES ARE USED IF THE STATE SPACE INVOLVES THE UE COVERED BINARY VECTOR\n",
        "        # horizontal_dist_UE_UAV = np.linalg.norm(self.UE_positions - self.current_state[:2], axis = 1)\n",
        "        # rho_array = (horizontal_dist_UE_UAV <= (self.C_max_t)) * 1  # binary association vector\n",
        "        # self.current_state = np.concatenate((self.current_state[:2], rho_array))\n",
        "        self.timesteps_in_episode = 0\n",
        "        self.done = False\n",
        "        return self.current_state\n",
        "    \n",
        "    \n",
        "    def get_count_of_UEs_covered(self):\n",
        "        '''\n",
        "        Returns count of UEs covered under UAV's current configuration\n",
        "        '''\n",
        "        ground_UAV_state = self.current_state[:, :2]\n",
        "        horizontal_dist_UE_UAV = np.array([np.linalg.norm(self.UE_positions - ground_UAV_state[i], axis = 1) for i in range(self.UAV_count)])\n",
        "        rho_matrix = (horizontal_dist_UE_UAV <= (self.C_max_t_array[:, None])) * 1  # binary association vector [(n_uav x n_ue) dimensions]\n",
        "        Mn_t = ((rho_matrix.sum(axis = 0) >= 1) * 1) \n",
        "        M_t = Mn_t.sum()  # total no. of UEs served by all the agent collectively\n",
        "        return M_t\n",
        "\n",
        "\n",
        "    def render(self, **kwargs):\n",
        "        '''\n",
        "        Function to visualize UAV position\n",
        "        (this function has different configurations for different use cases)\n",
        "        '''\n",
        "\n",
        "        if 'UAV_positions_list' in kwargs:\n",
        "            self.render_UAV_movement_through_episode(UAV_positions_list = kwargs['UAV_positions_list'])\n",
        "\n",
        "        if 'fig' not in kwargs:\n",
        "            fig, ax = plt.subplots(1, 2, figsize=(20,10))\n",
        "            ax = np.array([ax])\n",
        "            kwargs['fig'] = fig\n",
        "            kwargs['ax'] = ax\n",
        "            kwargs['i'] = 0\n",
        "        \n",
        "        if 'reward' not in kwargs:\n",
        "            kwargs['reward'] = 'Not known'\n",
        "        self.render_position_plot(**kwargs)\n",
        "\n",
        "\n",
        "    def step(self, action):\n",
        "        '''\n",
        "        Takes action moving environment from current_state to next_state\n",
        "        Arguments: `action` to be taken\n",
        "        Returns: new_state, reward, done, info(=None)\n",
        "        '''\n",
        "        # action = action.numpy().flatten()\n",
        "        # print(\"action inside step: \", action)\n",
        "        for i in range(self.UAV_count):\n",
        "            err_msg = f\"{action[i]!r} ({type(action[i])}) for UAV {i} invalid\"\n",
        "            assert self.action_space[i].contains(action[i]), err_msg\n",
        "        assert self.current_state is not None, \"Call reset before using step method.\"\n",
        "\n",
        "        self.timesteps_in_episode += 1\n",
        "        prev_UAV_state = self.current_state\n",
        "        _, inside_bounds = self.move(action)\n",
        "        # print(type(self.current_state), type(prev_UAV_state))\n",
        "        if inside_bounds != 0:\n",
        "            # MENTIONED OUTPUT IS OUT OF BOUNDS\n",
        "\n",
        "            # self.is_done(end = True)\n",
        "            reward = -1000\n",
        "            return self.current_state, reward, self.done, None\n",
        "\n",
        "        ground_UAV_state = self.current_state[:, :2]\n",
        "        horizontal_dist_UE_UAV = np.array([np.linalg.norm(self.UE_positions - ground_UAV_state[i], axis = 1) for i in range(self.UAV_count)])\n",
        "        rho_matrix = (horizontal_dist_UE_UAV <= (self.C_max_t_array[:, None])) * 1  # binary association vector [(n_uav x n_ue) dimensions]\n",
        "        Mn_t = ((rho_matrix.sum(axis = 0) >= 1) * 1) \n",
        "        M_t = Mn_t.sum()  # total no. of UEs served by all the agent collectively\n",
        "\n",
        "        reward = M_t * 10         \n",
        "        self.is_done(M_t)\n",
        "\n",
        "        return self.current_state, reward, self.done, None\n",
        "    \n",
        "\n",
        "    def move(self, action):\n",
        "        '''\n",
        "        Helper function to step() function.\n",
        "        Clips the passed action to fit within action space bounds.\n",
        "        Calculates new state after performing the passed action, and updates UAV position accordingly. \n",
        "        '''\n",
        "#         evaluates new state reached upon performing the move and saves it in self.current_state\n",
        "        # ACTION = [dx, dy]\n",
        "        x_next_array = np.array([(self.current_state[i][0] + (self.index_to_action_mapper[action[i]][0] * self.action_step_size)) for i in range(self.UAV_count)], dtype=np.float32)\n",
        "        y_next_array = np.array([(self.current_state[i][1] + (self.index_to_action_mapper[action[i]][1] * self.action_step_size)) for i in range(self.UAV_count)], dtype=np.float32)\n",
        "        \n",
        "    # updating horizontal_direction_angle if the new move is out of boundary\n",
        "        positive_reward = True\n",
        "        if ((x_next_array < 0).any()) or ((y_next_array < 0).any()) or ((x_next_array > self.boundary_x).any()) or ((y_next_array > self.boundary_y).any()):\n",
        "            # UAV REMAINS IN ITS CURRENT POSITION\n",
        "            positive_reward = False\n",
        "\n",
        "        x_next_array = np.clip(x_next_array, a_min=np.array([0 for i in range(self.UAV_count)]), a_max=np.array([self.boundary_x for i in range(self.UAV_count)]))\n",
        "        y_next_array = np.clip(y_next_array, a_min=np.array([0 for i in range(self.UAV_count)]), a_max=np.array([self.boundary_y for i in range(self.UAV_count)]))\n",
        "        self.current_state[:, :2] = np.array([[x_next_array[i], y_next_array[i]] for i in range(self.UAV_count)])\n",
        "        return action, positive_reward\n",
        "\n",
        "\n",
        "    def is_done(self, M_t=0, end=False):\n",
        "        '''\n",
        "        Helper function to check if episode needs to be terminated\n",
        "        '''\n",
        "        if end == True:\n",
        "            self.done = True\n",
        "        # if M_t >= int(0.6 * self.UE_count):\n",
        "        #     self.done = True\n",
        "        elif(self.timesteps_in_episode >= self.max_episode_steps):\n",
        "            self.done = True\n",
        "        return\n",
        "\n",
        "    \n",
        "    def select_random_state(self):\n",
        "        '''\n",
        "        Selects (and returns) random initial state (within bounds) for the UAV\n",
        "        '''\n",
        "        UAV_pos_list = []\n",
        "        for _ in range(self.UAV_count):\n",
        "            new_x = np.random.uniform(0.0, self.boundary_x)\n",
        "            new_y = np.random.uniform(0.0, self.boundary_y)\n",
        "            UAV_pos_list.append(np.array([new_x, new_y]))\n",
        "\n",
        "        return np.array(UAV_pos_list)\n",
        "\n",
        "\n",
        "    def place_UEs_centered(self, center = None, centered_UE_count = None, radius = None):\n",
        "        '''\n",
        "        Helper function to place_UEs\n",
        "        Places `centered_UE_count` UEs within a circle with center `center` and radius `C_max_t`.\n",
        "        Places remaining UEs (UE_count - centered_UE_count) randomly inside the area barring the above circular region\n",
        "        Arguments: \n",
        "            desired_z_coord: Z coordinate with which to calculate radius C_max_t for centering UEs\n",
        "            center: Provides center of circular region in which UEs will be scattered\n",
        "            centered_UE_count: Number of UEs to be placed within the circular region created using previous arguments\n",
        "        '''\n",
        "\n",
        "        if centered_UE_count is None:\n",
        "          centered_UE_count = self.UE_count\n",
        "        # focuses the UEs inside the circular region\n",
        "        if radius is None:\n",
        "            radius = (2 * self.C_max_t) / 3\n",
        "        if center is None:\n",
        "            # (x, y) co-ordinates\n",
        "            x = np.random.uniform(0, self.boundary_x)\n",
        "            y = np.random.uniform(0, self.boundary_y)\n",
        "            center = np.array([x, y])\n",
        "\n",
        "        r = radius * np.sqrt(np.random.uniform(size = centered_UE_count))\n",
        "        theta = np.random.uniform(size = centered_UE_count) * 2 * math.pi\n",
        "\n",
        "        if self.UE_center is None:\n",
        "            self.UE_center = []\n",
        "            self.UE_radius = []\n",
        "        self.UE_center.append(center)\n",
        "        self.UE_radius.append(radius)\n",
        "\n",
        "        if self.UE_positions is None: \n",
        "            self.UE_positions = np.zeros((centered_UE_count, 2))\n",
        "            self.UE_positions[:, 0] = np.clip(center[0] + r * np.cos(theta), 0., self.boundary_x) \n",
        "            self.UE_positions[:, 1] = np.clip(center[1] + r * np.sin(theta), 0., self.boundary_y)\n",
        "        else:\n",
        "            current_iteration_UE_positions = np.zeros((centered_UE_count, 2))\n",
        "            current_iteration_UE_positions[:, 0] = np.clip(center[0] + r * np.cos(theta), 0., self.boundary_x) \n",
        "            current_iteration_UE_positions[:, 1] = np.clip(center[1] + r * np.sin(theta), 0., self.boundary_y)\n",
        "            # print(\"self.UE_positions: \", self.UE_positions)\n",
        "            # print(\"current_iteration_UE_positions: \", current_iteration_UE_positions) \n",
        "            self.UE_positions = np.concatenate((self.UE_positions, current_iteration_UE_positions))\n",
        "\n",
        "        return\n",
        "\n",
        "\n",
        "    def place_UEs_randomly(self, random_UE_count = None, **kwargs):\n",
        "        '''\n",
        "        Helper function to place_UEs\n",
        "        places `random_UE_count` UEs randomly onto the rectangular region\n",
        "        if kwargs has the key `exclude_center`, then the circular region spanned by `exclude_center` \\\n",
        "        and `exclude_radius` is excluded\n",
        "\n",
        "        '''\n",
        "\n",
        "        if random_UE_count is None:\n",
        "          random_UE_count = self.UE_count\n",
        "\n",
        "        # places UE_count UEs on grid randomly\n",
        "        if type(self.UE_positions) == np.ndarray:\n",
        "            self.UE_positions = self.UE_positions.tolist()\n",
        "\n",
        "        randomly_placed_count = 0\n",
        "        while(randomly_placed_count < random_UE_count):\n",
        "            x = np.random.uniform(0, self.boundary_x)\n",
        "            y = np.random.uniform(0, self.boundary_y)\n",
        "            coords = np.array([x, y])\n",
        "            if 'exclude_center' in kwargs:\n",
        "                if (np.linalg.norm(coords - kwargs['exclude_center']) <= kwargs['exclude_radius']):\n",
        "                    continue\n",
        "            self.UE_positions.append(coords)\n",
        "            randomly_placed_count += 1\n",
        "\n",
        "        self.UE_positions = np.array(self.UE_positions)\n",
        "\n",
        "\n",
        "    def get_UE_cluster_center(self, current_cluster_radius, exclude_center_list = None, exclude_radius_list = None):\n",
        "        \n",
        "        buffer = 20.\n",
        "        max_allowed_iterations = 10000\n",
        "        idx = 0\n",
        "        while True:\n",
        "            if idx >= max_allowed_iterations:\n",
        "                break\n",
        "            idx += 1\n",
        "            new_x = np.random.uniform(0.0, self.boundary_x)\n",
        "            new_y = np.random.uniform(0.0, self.boundary_y)\n",
        "            if exclude_center_list is not None:\n",
        "                # print(\"exclude_center_list: \", exclude_center_list)\n",
        "                # print(\"chosen coordinate: \", np.array([new_x, new_y]))\n",
        "                chosen_center_to_excluded_centers_dist_list = np.linalg.norm(exclude_center_list - np.array([new_x, new_y]), axis = 1)\n",
        "                if ((chosen_center_to_excluded_centers_dist_list <= (exclude_radius_list + current_cluster_radius + buffer)) * 1).any():\n",
        "                    continue\n",
        "                break\n",
        "\n",
        "        return np.array([new_x, new_y])\n",
        "\n",
        "\n",
        "    def place_UEs(self, position=\"random\", center = None, num_centers = 3):\n",
        "        '''\n",
        "        Function to place UEs onto the rectangular region\n",
        "        Arguments:\n",
        "            position: has 2 modes, \"random\" and \"centered\", representing the two configuration for scattering UEs\n",
        "            desired_z_coord: if position=\"centered\", this argument gives height with which to calculate radius of circular region\n",
        "            center: if position=\"centered\", this argument provides center of circular region\n",
        "        '''\n",
        "\n",
        "        self.UE_center = None  # initializing for non-centered generation algorithms\n",
        "        self.UE_positions = None\n",
        "\n",
        "        if(position==\"centered\"):\n",
        "            ratio = 0.75\n",
        "            centered_count = int(ratio * self.UE_count)\n",
        "            per_center_count = int(centered_count / num_centers)\n",
        "            exclude_center_list = None\n",
        "            exclude_radius_list = None\n",
        "            for i in range(num_centers):\n",
        "                current_UE_cluster_center = self.get_UE_cluster_center(self.C_max_t, exclude_center_list = exclude_center_list, exclude_radius_list = exclude_radius_list)\n",
        "                # print(i, \"th cluster center: \", current_UE_cluster_center)\n",
        "                self.place_UEs_centered(center = current_UE_cluster_center, centered_UE_count = per_center_count)\n",
        "                if exclude_center_list is None:\n",
        "                    exclude_center_list = np.array([current_UE_cluster_center])\n",
        "                    exclude_radius_list = np.array([self.UE_radius[-1]])\n",
        "                else:\n",
        "                    exclude_center_list = np.concatenate((exclude_center_list, np.array([current_UE_cluster_center])))\n",
        "                    # print(\"exclude_radius_list: \", exclude_radius_list)\n",
        "                    # print(\"current_radius: \", np.array(self.UE_radius[-1]))\n",
        "                    exclude_radius_list = np.concatenate((exclude_radius_list, [np.array(self.UE_radius[-1])]))\n",
        "\n",
        "            # Placing remaining UAVs randomly\n",
        "            if((self.UE_count - (per_center_count * num_centers)) > 0):\n",
        "                self.place_UEs_randomly(self.UE_count - (per_center_count * num_centers))\n",
        "        \n",
        "        elif(position==\"random\"):\n",
        "            self.place_UEs_randomly()\n",
        "\n",
        "        # saves in self.UE_positions\n",
        "        self.UE_positions = np.array(self.UE_positions)\n",
        "        return\n",
        "\n",
        "\n",
        "    def render_UAV_movement_through_episode(self, **kwargs):\n",
        "        '''\n",
        "        Helper function to visualize UAV movement through an episode\n",
        "        Arguments: A list specifying UAV positions throughout the episode\n",
        "        '''\n",
        "\n",
        "        if 'reward' not in kwargs:\n",
        "            kwargs['reward'] = 'Not known'\n",
        "        \n",
        "        buffer = 5.\n",
        "        fig, ax = plt.subplots(1, figsize=(10,10))\n",
        "        ax.set_xlim(-buffer, self.boundary_x+buffer)\n",
        "        ax.set_ylim(-buffer, self.boundary_y+buffer)\n",
        "        ax.grid()\n",
        "        UE_x = self.UE_positions[:, 0]\n",
        "        UE_y = self.UE_positions[:, 1]\n",
        "        ax.plot(UE_x, UE_y, color='black', marker='o', markersize=6, linestyle = '', label = \"UE\")\n",
        "        \n",
        "        for i in range(self.UAV_count):\n",
        "            ax.plot(kwargs['UAV_positions_list'][:, i, 0] , kwargs['UAV_positions_list'][:, i, 1], color=self.UAV_path_color, markersize=6, linestyle = '-') #, label = \"UAV Path Color\")\n",
        "            ax.plot(kwargs['UAV_positions_list'][-1, i, 0], kwargs['UAV_positions_list'][-1, i, 1], color='blue', marker='x', markersize=9, linestyle = '') #, label = \"UAV ending position\")\n",
        "            \n",
        "            UAV_coverage_area = plt.Circle((kwargs['UAV_positions_list'][-1, i, 0], kwargs['UAV_positions_list'][-1, i, 1]), self.C_max_t, color = self.UAV_coverage_circle_color)\n",
        "            ax.add_artist(UAV_coverage_area)\n",
        "      \n",
        "      # For testing: To plot the circle and visualize UE points inside it\n",
        "        if self.UE_center is not None:\n",
        "            for i in range(len(self.UE_center)):\n",
        "                Test_UE_allotment_circle = plt.Circle((self.UE_center[i][0] , self.UE_center[i][1]), self.UE_radius[i], color = self.EC_concentrated_region_color)\n",
        "                ax.add_artist(Test_UE_allotment_circle)\n",
        "      # End\n",
        "\n",
        "        ax.set_aspect(1)\n",
        "        # naming the x axis\n",
        "        ax.set_xlabel('X pos (m)')\n",
        "        # naming the y axis\n",
        "        ax.set_ylabel('Y pos (m)')\n",
        "        ax.set_title('UAV movement through episode')\n",
        "        # giving a title to my graph\n",
        "        # plt.title('Visually Appealing!')\n",
        "\n",
        "        # show a legend on the plot\n",
        "        ax.legend()\n",
        "        # plt.show()\n",
        "        return\n",
        "\n",
        "\n",
        "    def render_policy_plot(self, **kwargs):\n",
        "\n",
        "        fig, ax = plt.subplots(1, figsize=(10,10))\n",
        "        position_action_list = kwargs['position_action_list']\n",
        "        for position_action in position_action_list:\n",
        "            position = position_action[0]\n",
        "            action = position_action[1]\n",
        "            new_state = self.move(action, get_new_state=True)\n",
        "            ax.arrow(position[0], position[1], new_state[0] - position[0], new_state[1] - position[1], head_width=0.09, head_length=0.1)\n",
        "        plt.show()\n",
        "        return\n",
        "\n",
        "\n",
        "    def render_bar_plot(self, ax, plot_number, idx):\n",
        "        '''\n",
        "        Plotting bar graph of each UE's fraction of tasks assigned to UAV and to EC, by the last action input given to step() function\n",
        "        '''\n",
        "        x_indices = np.arange(self.UE_count)\n",
        "        width = 0.5\n",
        "\n",
        "        gamma_array = (np.array(self.last_action[4:])).reshape((self.UE_count, self.EC_count))\n",
        "        gamma_zeros = (1 - gamma_array.sum(axis = 1))\n",
        "        \n",
        "        ax[plot_number, idx].bar(x_indices, gamma_zeros, width=width)\n",
        "        for i in range(self.EC_count):\n",
        "            ax[plot_number, idx].bar(x_indices, gamma_array[:, i], width=width)\n",
        "        \n",
        "    \n",
        "    def render_position_plot(self, **kwargs):\n",
        "        '''\n",
        "        Helper function to render(), plots the current position plot on given axes. \n",
        "        Plotting position plot of UAV's current position and coverage\n",
        "        '''\n",
        "        ax = kwargs['ax']\n",
        "        plot_number = kwargs['i']\n",
        "        idx = 0\n",
        "        reward = kwargs['reward']\n",
        "\n",
        "        buffer = 5.\n",
        "        ax[plot_number, idx].set_xlim(-buffer, self.boundary_x+buffer)\n",
        "        ax[plot_number, idx].set_ylim(-buffer, self.boundary_y+buffer)\n",
        "        ax[plot_number, idx].grid()\n",
        "        UE_x = self.UE_positions[:, 0]\n",
        "        UE_y = self.UE_positions[:, 1]\n",
        "        ax[plot_number, idx].plot(UE_x, UE_y, color='black', marker='o', markersize=6, linestyle = '', label = \"UE\")\n",
        "        \n",
        "        for i in range(self.UAV_count):\n",
        "            ax[plot_number, idx].plot(self.current_state[i][0], self.current_state[i][1], color='blue', marker='x', markersize=9, linestyle = '', label = \"UAV\")\n",
        "            UAV_coverage_area = plt.Circle((self.current_state[i][0] , self.current_state[i][1] ), self.C_max_t, color = self.UAV_coverage_circle_color)\n",
        "            ax[plot_number, idx].add_artist(UAV_coverage_area)\n",
        "      \n",
        "      # For testing: To plot the circle and visualize UE points inside it\n",
        "        if self.UE_center is not None:\n",
        "            for i in range(len(self.UE_center)):\n",
        "                # print(\"self.UE_radius inside render_position_plot: \", self.UE_radius)\n",
        "                Test_UE_allotment_circle = plt.Circle((self.UE_center[i][0] , self.UE_center[i][1]), self.UE_radius[i], color = self.EC_concentrated_region_color)\n",
        "                ax[plot_number, idx].add_artist(Test_UE_allotment_circle)\n",
        "      # End\n",
        "\n",
        "        if 'learnt_policy_visualization' in kwargs:\n",
        "            position_action_list = kwargs['position_action_list']\n",
        "            for position_action in position_action_list:\n",
        "                position = position_action[0]\n",
        "                action = position_action[1]\n",
        "                action = np.clip(action, self.action_space_lb, self.action_space_ub)\n",
        "                action = (((self.action_space_coversion_ub - self.action_space_coversion_lb) * (action + 1)) / 2) + self.action_space_coversion_lb\n",
        "                print(\"scaled action: \", action)\n",
        "                # print(\"action after scaling: \", action)\n",
        "                new_state = self.move(action, get_new_state=True, provided_center=position)\n",
        "                print(\"previous state: \", position, \", new state: \", new_state)\n",
        "                # print(\"new_state: \", new_state)\n",
        "                ax[plot_number, idx].plot(position[0], position[1], color='blue', marker='o', markersize=6, linestyle = '')\n",
        "                ax[plot_number, idx].plot(new_state[0], new_state[1], color='orange', marker='o', markersize=6, linestyle = '')\n",
        "                ax[plot_number, idx].arrow(position[0], position[1], new_state[0] - position[0], new_state[1] - position[1], head_width=0.2, head_length=0.1)\n",
        "\n",
        "\n",
        "        ax[plot_number, idx].set_aspect(1)\n",
        "        # naming the x axis\n",
        "        ax[plot_number, idx].set_xlabel('X pos (m)')\n",
        "        # naming the y axis\n",
        "        ax[plot_number, idx].set_ylabel('Y pos (m)')\n",
        "        ax[plot_number, idx].set_title('reward: ' + str(reward))\n",
        "        # giving a title to my graph\n",
        "        # plt.title('Visually Appealing!')\n",
        "\n",
        "        # show a legend on the plot\n",
        "        ax[plot_number, idx].legend()\n",
        "        # plt.show()"
      ],
      "metadata": {
        "id": "x6KVPUgwXTqh"
      },
      "execution_count": 5,
      "outputs": []
    },
    {
      "cell_type": "code",
      "source": [
        "env = Single_Agent_UAV()\n",
        "env.reset()"
      ],
      "metadata": {
        "colab": {
          "base_uri": "https://localhost:8080/"
        },
        "id": "FMIpSO4OdELG",
        "outputId": "61abd57c-979b-429e-905c-5d2762936360"
      },
      "execution_count": 6,
      "outputs": [
        {
          "output_type": "execute_result",
          "data": {
            "text/plain": [
              "array([[ 32.52032448, 134.61738265],\n",
              "       [ 68.75356514,  84.73302814],\n",
              "       [130.35135757, 148.30850099]])"
            ]
          },
          "metadata": {},
          "execution_count": 6
        }
      ]
    },
    {
      "cell_type": "code",
      "execution_count": 7,
      "metadata": {
        "colab": {
          "base_uri": "https://localhost:8080/",
          "height": 677
        },
        "id": "ByDx6-aJZw4q",
        "outputId": "41cd057b-31b0-4267-e37d-a54bd1c8eb90"
      },
      "outputs": [
        {
          "output_type": "display_data",
          "data": {
            "text/plain": [
              "<Figure size 2000x1000 with 2 Axes>"
            ],
            "image/png": "[encoded data removed]"
          },
          "metadata": {}
        }
      ],
      "source": [
        "env.render()"
      ]
    },
    {
      "cell_type": "code",
      "source": [
        "env.get_count_of_UEs_covered()"
      ],
      "metadata": {
        "colab": {
          "base_uri": "https://localhost:8080/"
        },
        "id": "KFoPtW80L4bA",
        "outputId": "3f1fd6a3-5710-485e-95d7-f25d9a327887"
      },
      "execution_count": 8,
      "outputs": [
        {
          "output_type": "execute_result",
          "data": {
            "text/plain": [
              "20"
            ]
          },
          "metadata": {},
          "execution_count": 8
        }
      ]
    },
    {
      "cell_type": "code",
      "execution_count": 9,
      "metadata": {
        "colab": {
          "base_uri": "https://localhost:8080/"
        },
        "id": "oniXtKH9Zw4r",
        "outputId": "a5efbe5f-1b92-4325-b5d4-8a5aae1d7a93"
      },
      "outputs": [
        {
          "output_type": "stream",
          "name": "stdout",
          "text": [
            "Single Agent UAV env: State dimension: 6, Number of actions: 9\n"
          ]
        }
      ],
      "source": [
        "state_dims = (env.state_space[0].shape[0] * env.UAV_count)\n",
        "num_actions = env.action_space[0].n\n",
        "print(f\"Single Agent UAV env: State dimension: {state_dims}, Number of actions: {num_actions}\")"
      ]
    },
    {
      "cell_type": "markdown",
      "metadata": {
        "id": "SUX9NnTRZw4s"
      },
      "source": [
        "### Prepare the environment to work with PyTorch"
      ]
    },
    {
      "cell_type": "code",
      "execution_count": 10,
      "metadata": {
        "colab": {
          "base_uri": "https://localhost:8080/"
        },
        "id": "uG8d3beMZw4s",
        "outputId": "671f0b63-8236-42e9-bece-da5b0be6064a"
      },
      "outputs": [
        {
          "output_type": "stream",
          "name": "stdout",
          "text": [
            "Sample state: [[ 32.52032448 134.61738265]\n",
            " [ 68.75356514  84.73302814]\n",
            " [130.35135757 148.30850099]]\n",
            "Next state: [[ 36.76296616 138.86001587]\n",
            " [ 72.99620819  88.97566986]\n",
            " [134.59399414 150.        ]], Reward: 190, Done: False\n"
          ]
        }
      ],
      "source": [
        "state = env.reset()\n",
        "action = [2 for i in range(env.UAV_count)] \n",
        "print(f\"Sample state: {state}\")\n",
        "next_state, reward, done, _ = env.step(action)\n",
        "print(f\"Next state: {next_state}, Reward: {reward}, Done: {done}\")"
      ]
    },
    {
      "cell_type": "code",
      "execution_count": 11,
      "metadata": {
        "colab": {
          "base_uri": "https://localhost:8080/"
        },
        "id": "khs7jcRIZw4s",
        "outputId": "7a0601d7-85c4-419e-879c-34e372f9afc4"
      },
      "outputs": [
        {
          "output_type": "stream",
          "name": "stdout",
          "text": [
            "<class 'numpy.ndarray'>\n"
          ]
        }
      ],
      "source": [
        "action_vector = np.array([torch.tensor(0) for _ in range(env.UAV_count)])\n",
        "action_vector = np.array([action_vector[i].item() for i in range(env.UAV_count)])\n",
        "print(type(action_vector))"
      ]
    },
    {
      "cell_type": "code",
      "execution_count": 12,
      "metadata": {
        "id": "GMoMHQh_Zw4s"
      },
      "outputs": [],
      "source": [
        "class PreprocessEnv(gym.Wrapper):\n",
        "    \n",
        "    def __init__(self, env):\n",
        "        gym.Wrapper.__init__(self, env)\n",
        "    \n",
        "    def reset(self):\n",
        "        obs = self.env.reset()\n",
        "        # print(\"obs: \", obs)\n",
        "        return torch.from_numpy(obs).unsqueeze(dim=0).float()\n",
        "    \n",
        "    def step(self, action):\n",
        "        # print(\"type of action inside wrapper: \", type(action))\n",
        "        # action = action.item()\n",
        "        next_state, reward, done, info = self.env.step(action)\n",
        "        # print(next_state, reward, done)\n",
        "        next_state = torch.from_numpy(next_state).unsqueeze(dim=0).float()\n",
        "        reward = torch.tensor(reward).view(1, -1).float()\n",
        "        done = torch.tensor(done).view(1, -1)\n",
        "        return next_state, reward, done, info"
      ]
    },
    {
      "cell_type": "code",
      "execution_count": 13,
      "metadata": {
        "id": "s01dFrxxZw4t"
      },
      "outputs": [],
      "source": [
        "env = PreprocessEnv(env)"
      ]
    },
    {
      "cell_type": "code",
      "execution_count": 14,
      "metadata": {
        "colab": {
          "base_uri": "https://localhost:8080/"
        },
        "id": "-hzDyxHAZw4t",
        "outputId": "da3d2f24-958f-4672-929e-7c1290ad2a8b"
      },
      "outputs": [
        {
          "output_type": "stream",
          "name": "stdout",
          "text": [
            "Sample state: tensor([[ 36.7630, 138.8600],\n",
            "        [ 72.9962,  88.9757],\n",
            "        [134.5940, 150.0000]])\n",
            "Next state: tensor([[ 30.7630, 138.8600],\n",
            "        [ 66.9962,  88.9757],\n",
            "        [128.5940, 150.0000]]), Reward: tensor([[-1000.]]), Done: tensor([[False]])\n"
          ]
        }
      ],
      "source": [
        "state = env.reset()\n",
        "action_vector = np.array([torch.tensor(5) for _ in range(env.UAV_count)])\n",
        "print(f\"Sample state: {state[0]}\")\n",
        "next_state, reward, done, _ = env.step(action_vector)\n",
        "print(f\"Next state: {next_state[0]}, Reward: {reward}, Done: {done}\")"
      ]
    },
    {
      "cell_type": "code",
      "source": [
        "print(state, type(state))"
      ],
      "metadata": {
        "colab": {
          "base_uri": "https://localhost:8080/"
        },
        "id": "MpZ1pdRE_add",
        "outputId": "f8f4786f-0ce2-4735-810a-d6d65959d758"
      },
      "execution_count": 15,
      "outputs": [
        {
          "output_type": "stream",
          "name": "stdout",
          "text": [
            "tensor([[[ 36.7630, 138.8600],\n",
            "         [ 72.9962,  88.9757],\n",
            "         [134.5940, 150.0000]]]) <class 'torch.Tensor'>\n"
          ]
        }
      ]
    },
    {
      "cell_type": "markdown",
      "metadata": {
        "id": "9JK70lRCZw4t"
      },
      "source": [
        "## Create the Q-Network and policy\n",
        "\n",
        "<br><br>"
      ]
    },
    {
      "cell_type": "markdown",
      "metadata": {
        "id": "uLGNWBoxZw4t"
      },
      "source": [
        "### Create the Q-Network: $\\hat q(s,a| \\theta)$"
      ]
    },
    {
      "cell_type": "code",
      "execution_count": 16,
      "metadata": {
        "id": "n0dKR_w8Zw4u"
      },
      "outputs": [],
      "source": [
        "q_networks = [nn.Sequential(\n",
        "    nn.Linear(state_dims, 64),\n",
        "    nn.ReLU(),\n",
        "    nn.Linear(64,64),\n",
        "    nn.ReLU(),\n",
        "    nn.Linear(64,64),\n",
        "    nn.ReLU(),\n",
        "    nn.Linear(64,64),\n",
        "    nn.ReLU(),\n",
        "    nn.Linear(64, num_actions)   \n",
        ") for i in range(env.UAV_count)]"
      ]
    },
    {
      "cell_type": "markdown",
      "metadata": {
        "id": "AHKnQ3VdZw4u"
      },
      "source": [
        "### Create the target Q-Network: $\\hat q(s, a|\\theta_{targ})$"
      ]
    },
    {
      "cell_type": "code",
      "execution_count": 17,
      "metadata": {
        "id": "LYr5lGR6Zw4u"
      },
      "outputs": [],
      "source": [
        "target_q_networks = [copy.deepcopy(q_networks[i]).eval() for i in range(env.UAV_count)]"
      ]
    },
    {
      "cell_type": "markdown",
      "metadata": {
        "id": "y42KnEx-Zw4u"
      },
      "source": [
        "### Create the exploratory policy: $b(s)$"
      ]
    },
    {
      "cell_type": "code",
      "execution_count": 18,
      "metadata": {
        "id": "aGzS66hvZw4u"
      },
      "outputs": [],
      "source": [
        "def policy(state, epsilon=0., UAV_index=0):\n",
        "    if torch.rand(1) < epsilon:\n",
        "        return torch.randint(num_actions, (1, 1))\n",
        "    else:\n",
        "        flattened_state = torch.flatten(state, end_dim=-1)\n",
        "        # print(flattened_state.shape)\n",
        "        av = q_networks[UAV_index](flattened_state).detach()\n",
        "        return torch.argmax(av, dim=-1, keepdim=True)"
      ]
    },
    {
      "cell_type": "markdown",
      "metadata": {
        "id": "PklMoP-_Zw4u"
      },
      "source": [
        "## Create the Experience Replay buffer"
      ]
    },
    {
      "cell_type": "code",
      "execution_count": 19,
      "metadata": {
        "id": "7WYHyi3PZw4v"
      },
      "outputs": [],
      "source": [
        "class ReplayMemory:\n",
        "    \n",
        "    def __init__(self, capacity=100000):\n",
        "        self.capacity = capacity\n",
        "        self.memory = []\n",
        "        self.position = 0\n",
        "\n",
        "    def insert(self, transition):\n",
        "        if len(self.memory) < self.capacity:\n",
        "            self.memory.append(None)\n",
        "        self.memory[self.position] = transition\n",
        "        self.position = (self.position + 1) % self.capacity\n",
        "\n",
        "    def sample(self, batch_size):\n",
        "        assert self.can_sample(batch_size)\n",
        "\n",
        "        batch = random.sample(self.memory, batch_size)\n",
        "        batch = zip(*batch)\n",
        "        # print(\"printing batch inside sample() function: \", batch)\n",
        "        return_ls = []\n",
        "        for items in batch:\n",
        "            # print(\"printing items: \", items)\n",
        "            # print(\"printing concatenation: \", torch.cat(items))\n",
        "            return_ls.append(torch.cat(items))\n",
        "        # print(\"printing given concat operation: \", [torch.cat(items) for items in batch])\n",
        "        # return [torch.cat(items) for items in batch]\n",
        "        return return_ls\n",
        "\n",
        "    def can_sample(self, batch_size):\n",
        "        return len(self.memory) >= batch_size * 10\n",
        "\n",
        "    def __len__(self):\n",
        "        return len(self.memory)"
      ]
    },
    {
      "cell_type": "markdown",
      "metadata": {
        "scrolled": false,
        "id": "Cw2mANDZZw4v"
      },
      "source": [
        "## Implement the algorithm\n",
        "\n",
        "</br></br>"
      ]
    },
    {
      "cell_type": "code",
      "execution_count": 20,
      "metadata": {
        "id": "a8O_k4lDZw4v"
      },
      "outputs": [],
      "source": [
        "def deep_q_learning(q_networks, policy, episodes, alpha = 0.001,\n",
        "                    batch_size = 32, gamma = 0.99, epsilon = 0.2):\n",
        "    optims = [AdamW(q_networks[i].parameters(), lr= alpha) for i in range(env.UAV_count)]\n",
        "    memory = ReplayMemory()\n",
        "    stats= {'MSE Loss': [], 'Average_Returns': []}\n",
        "    \n",
        "    for episode in tqdm(range(1, episodes+1)):\n",
        "        state = env.reset()\n",
        "        # print(\"state after reset: \", state)\n",
        "        # print(\"printing state type inside deep_q_learning() function: \", state)\n",
        "        done = False\n",
        "        ep_return = 0.\n",
        "        print(\"-----------------------------episode \", episode, \"-----------------------------\")\n",
        "        while not done:\n",
        "            np_state = torch.flatten(state, end_dim=-2).numpy()\n",
        "            # print(\"test print here: \", torch.flatten(state, end_dim=-2)[0])\n",
        "            # print(\"policy output of 0th network: \", policy(torch.flatten(state, end_dim=-2)[0], epsilon, 0))\n",
        "            # action = torch.tensor([[[policy(torch.flatten(state, end_dim=-2)[i], epsilon, i)] for i in range(env.UAV_count)]])\n",
        "            action = torch.tensor([[[policy(state, epsilon, i)] for i in range(env.UAV_count)]])\n",
        "            np_action = [act.item() for act in action[0]]\n",
        "            # print(\"current state: \", state)\n",
        "            # print(\"current action being taken: \", action)\n",
        "            # print(\"numpy version of the action: \", np_action)\n",
        "            # print(\"extra printing: \", action[0][0])\n",
        "            # print(\"action inside deep_q_learning(): \", action)\n",
        "            next_state, reward, done, _ = env.step(np_action)\n",
        "            # print(\"UEs covered: \", env.get_count_of_UEs_covered())\n",
        "            # print(\"next state: \", next_state)\n",
        "            memory.insert([state, action, reward, done, next_state])\n",
        "            \n",
        "            if memory.can_sample(batch_size):\n",
        "                # print(\"reached here\")\n",
        "                state_b, action_b, reward_b, done_b, next_state_b = memory.sample(batch_size)\n",
        "                # action_b = torch.flatten(action_b, end_dim = -2)\n",
        "                # print(\"UAV action tensor: \", action_b)\n",
        "                # print(\"state sample 0th UAV: \", state_b[:, 0, :])\n",
        "                # print(\"action sample 0th UAV: \", action_b[:, 0, :])\n",
        "                # print(\"Entering gradient descent:-\\n state: \", state_b[:, 0, :], \"action: \", action_b[:, 0, :])\n",
        "                loss_sum = 0\n",
        "                for i in range(env.UAV_count):\n",
        "                    # qsa_input_action = \n",
        "                    # qsa_b = q_networks[i](state_b[:, i, :]).gather(1, action_b[:, i, :])\n",
        "                    qsa_b = q_networks[i](torch.flatten(state_b, start_dim=1, end_dim=-1)).gather(1, action_b[:, i, :])\n",
        "\n",
        "                    # next_qsa_b = target_q_networks[i](next_state_b[:, i, :])\n",
        "                    next_qsa_b = target_q_networks[i](torch.flatten(next_state_b, start_dim=1, end_dim=-1))\n",
        "                    next_qsa_b = torch.max(next_qsa_b, dim =-1, keepdim=True)[0]\n",
        "                    \n",
        "                    # print(\"printing inverse of done values: \", ~done_b)\n",
        "                    target_b = reward_b + (~done_b) * gamma * next_qsa_b\n",
        "                    # print(\"printing target: \", target_b)\n",
        "                    # print(\"reward[0]: \", reward_b[1], \"done: \", done_b[1], \"gamma: \", gamma, \"next_qsa_b: \", next_qsa_b[1])\n",
        "                    loss = F.mse_loss(qsa_b, target_b)\n",
        "                    q_networks[i].zero_grad()\n",
        "                    loss.backward()\n",
        "                    optims[i].step()\n",
        "                    loss_sum += loss\n",
        "                stats['MSE Loss'].append(loss_sum)\n",
        "            \n",
        "            state = next_state\n",
        "            ep_return +=reward.item()\n",
        "        \n",
        "        print(\"no. of UEs covered (Reward): \", reward.item())\n",
        "        stats['Average_Returns'].append(float(ep_return) / env.timesteps_in_episode)\n",
        "    \n",
        "        if episode % 10 ==0:\n",
        "            for i in range(env.UAV_count):\n",
        "                target_q_networks[i].load_state_dict(q_networks[i].state_dict())\n",
        "    return stats"
      ]
    },
    {
      "cell_type": "code",
      "source": [
        "a = torch.tensor([[[1, 2, 3],\n",
        "   [4, 5, 6]],\n",
        "   [[7, 8, 9],\n",
        "   [10, 11, 12]]])\n",
        "b = torch.flatten(a, start_dim=1, end_dim=-1)\n",
        "b"
      ],
      "metadata": {
        "colab": {
          "base_uri": "https://localhost:8080/"
        },
        "id": "DuSXFNT_Z4Hs",
        "outputId": "4a62ad8b-fb5b-45a6-fb1d-79776a2100ce"
      },
      "execution_count": 21,
      "outputs": [
        {
          "output_type": "execute_result",
          "data": {
            "text/plain": [
              "tensor([[ 1,  2,  3,  4,  5,  6],\n",
              "        [ 7,  8,  9, 10, 11, 12]])"
            ]
          },
          "metadata": {},
          "execution_count": 21
        }
      ]
    },
    {
      "cell_type": "code",
      "execution_count": 22,
      "metadata": {
        "scrolled": true,
        "colab": {
          "base_uri": "https://localhost:8080/"
        },
        "id": "XSmC6msxZw4v",
        "outputId": "6982a4b2-7aac-4bfe-e30c-313c53ec90cd"
      },
      "outputs": [
        {
          "output_type": "stream",
          "name": "stderr",
          "text": [
            "\r  0%|          | 0/300 [00:00<?, ?it/s]"
          ]
        },
        {
          "output_type": "stream",
          "name": "stdout",
          "text": [
            "-----------------------------episode  1 -----------------------------\n",
            "no. of UEs covered (Reward):  630.0\n",
            "-----------------------------episode  2 -----------------------------\n"
          ]
        },
        {
          "output_type": "stream",
          "name": "stderr",
          "text": [
            "\r  1%|          | 2/300 [00:00<00:17, 17.37it/s]"
          ]
        },
        {
          "output_type": "stream",
          "name": "stdout",
          "text": [
            "no. of UEs covered (Reward):  500.0\n",
            "-----------------------------episode  3 -----------------------------\n",
            "no. of UEs covered (Reward):  280.0\n",
            "-----------------------------episode  4 -----------------------------\n"
          ]
        },
        {
          "output_type": "stream",
          "name": "stderr",
          "text": [
            "\r  2%|▏         | 5/300 [00:00<00:15, 19.03it/s]"
          ]
        },
        {
          "output_type": "stream",
          "name": "stdout",
          "text": [
            "no. of UEs covered (Reward):  90.0\n",
            "-----------------------------episode  5 -----------------------------\n",
            "no. of UEs covered (Reward):  550.0\n",
            "-----------------------------episode  6 -----------------------------\n",
            "no. of UEs covered (Reward):  620.0\n",
            "-----------------------------episode  7 -----------------------------\n"
          ]
        },
        {
          "output_type": "stream",
          "name": "stderr",
          "text": [
            "\r  2%|▏         | 7/300 [00:00<00:30,  9.67it/s]"
          ]
        },
        {
          "output_type": "stream",
          "name": "stdout",
          "text": [
            "no. of UEs covered (Reward):  460.0\n",
            "-----------------------------episode  8 -----------------------------\n",
            "no. of UEs covered (Reward):  490.0\n",
            "-----------------------------episode  9 -----------------------------\n"
          ]
        },
        {
          "output_type": "stream",
          "name": "stderr",
          "text": [
            "\r  3%|▎         | 9/300 [00:01<00:57,  5.10it/s]"
          ]
        },
        {
          "output_type": "stream",
          "name": "stdout",
          "text": [
            "no. of UEs covered (Reward):  460.0\n",
            "-----------------------------episode  10 -----------------------------\n"
          ]
        },
        {
          "output_type": "stream",
          "name": "stderr",
          "text": [
            "\r  3%|▎         | 10/300 [00:01<01:04,  4.46it/s]"
          ]
        },
        {
          "output_type": "stream",
          "name": "stdout",
          "text": [
            "no. of UEs covered (Reward):  50.0\n",
            "-----------------------------episode  11 -----------------------------\n"
          ]
        },
        {
          "output_type": "stream",
          "name": "stderr",
          "text": [
            "\r  4%|▎         | 11/300 [00:02<01:12,  4.01it/s]"
          ]
        },
        {
          "output_type": "stream",
          "name": "stdout",
          "text": [
            "no. of UEs covered (Reward):  20.0\n",
            "-----------------------------episode  12 -----------------------------\n"
          ]
        },
        {
          "output_type": "stream",
          "name": "stderr",
          "text": [
            "\r  4%|▍         | 12/300 [00:02<01:17,  3.72it/s]"
          ]
        },
        {
          "output_type": "stream",
          "name": "stdout",
          "text": [
            "no. of UEs covered (Reward):  50.0\n",
            "-----------------------------episode  13 -----------------------------\n"
          ]
        },
        {
          "output_type": "stream",
          "name": "stderr",
          "text": [
            "\r  4%|▍         | 13/300 [00:02<01:25,  3.34it/s]"
          ]
        },
        {
          "output_type": "stream",
          "name": "stdout",
          "text": [
            "no. of UEs covered (Reward):  260.0\n",
            "-----------------------------episode  14 -----------------------------\n"
          ]
        },
        {
          "output_type": "stream",
          "name": "stderr",
          "text": [
            "\r  5%|▍         | 14/300 [00:03<01:34,  3.02it/s]"
          ]
        },
        {
          "output_type": "stream",
          "name": "stdout",
          "text": [
            "no. of UEs covered (Reward):  20.0\n",
            "-----------------------------episode  15 -----------------------------\n"
          ]
        },
        {
          "output_type": "stream",
          "name": "stderr",
          "text": [
            "\r  5%|▌         | 15/300 [00:03<01:35,  3.00it/s]"
          ]
        },
        {
          "output_type": "stream",
          "name": "stdout",
          "text": [
            "no. of UEs covered (Reward):  150.0\n",
            "-----------------------------episode  16 -----------------------------\n"
          ]
        },
        {
          "output_type": "stream",
          "name": "stderr",
          "text": [
            "\r  5%|▌         | 16/300 [00:03<01:35,  2.97it/s]"
          ]
        },
        {
          "output_type": "stream",
          "name": "stdout",
          "text": [
            "no. of UEs covered (Reward):  250.0\n",
            "-----------------------------episode  17 -----------------------------\n"
          ]
        },
        {
          "output_type": "stream",
          "name": "stderr",
          "text": [
            "\r  6%|▌         | 17/300 [00:04<01:37,  2.90it/s]"
          ]
        },
        {
          "output_type": "stream",
          "name": "stdout",
          "text": [
            "no. of UEs covered (Reward):  310.0\n",
            "-----------------------------episode  18 -----------------------------\n"
          ]
        },
        {
          "output_type": "stream",
          "name": "stderr",
          "text": [
            "\r  6%|▌         | 18/300 [00:04<01:36,  2.91it/s]"
          ]
        },
        {
          "output_type": "stream",
          "name": "stdout",
          "text": [
            "no. of UEs covered (Reward):  170.0\n",
            "-----------------------------episode  19 -----------------------------\n"
          ]
        },
        {
          "output_type": "stream",
          "name": "stderr",
          "text": [
            "\r  6%|▋         | 19/300 [00:04<01:40,  2.80it/s]"
          ]
        },
        {
          "output_type": "stream",
          "name": "stdout",
          "text": [
            "no. of UEs covered (Reward):  70.0\n",
            "-----------------------------episode  20 -----------------------------\n"
          ]
        },
        {
          "output_type": "stream",
          "name": "stderr",
          "text": [
            "\r  7%|▋         | 20/300 [00:05<01:39,  2.82it/s]"
          ]
        },
        {
          "output_type": "stream",
          "name": "stdout",
          "text": [
            "no. of UEs covered (Reward):  40.0\n",
            "-----------------------------episode  21 -----------------------------\n"
          ]
        },
        {
          "output_type": "stream",
          "name": "stderr",
          "text": [
            "\r  7%|▋         | 21/300 [00:05<01:38,  2.84it/s]"
          ]
        },
        {
          "output_type": "stream",
          "name": "stdout",
          "text": [
            "no. of UEs covered (Reward):  50.0\n",
            "-----------------------------episode  22 -----------------------------\n"
          ]
        },
        {
          "output_type": "stream",
          "name": "stderr",
          "text": [
            "\r  7%|▋         | 22/300 [00:05<01:38,  2.82it/s]"
          ]
        },
        {
          "output_type": "stream",
          "name": "stdout",
          "text": [
            "no. of UEs covered (Reward):  40.0\n",
            "-----------------------------episode  23 -----------------------------\n"
          ]
        },
        {
          "output_type": "stream",
          "name": "stderr",
          "text": [
            "\r  8%|▊         | 23/300 [00:06<01:38,  2.80it/s]"
          ]
        },
        {
          "output_type": "stream",
          "name": "stdout",
          "text": [
            "no. of UEs covered (Reward):  20.0\n",
            "-----------------------------episode  24 -----------------------------\n"
          ]
        },
        {
          "output_type": "stream",
          "name": "stderr",
          "text": [
            "\r  8%|▊         | 24/300 [00:06<01:38,  2.80it/s]"
          ]
        },
        {
          "output_type": "stream",
          "name": "stdout",
          "text": [
            "no. of UEs covered (Reward):  10.0\n",
            "-----------------------------episode  25 -----------------------------\n"
          ]
        },
        {
          "output_type": "stream",
          "name": "stderr",
          "text": [
            "\r  8%|▊         | 25/300 [00:07<01:38,  2.81it/s]"
          ]
        },
        {
          "output_type": "stream",
          "name": "stdout",
          "text": [
            "no. of UEs covered (Reward):  10.0\n",
            "-----------------------------episode  26 -----------------------------\n"
          ]
        },
        {
          "output_type": "stream",
          "name": "stderr",
          "text": [
            "\r  9%|▊         | 26/300 [00:07<01:38,  2.78it/s]"
          ]
        },
        {
          "output_type": "stream",
          "name": "stdout",
          "text": [
            "no. of UEs covered (Reward):  20.0\n",
            "-----------------------------episode  27 -----------------------------\n"
          ]
        },
        {
          "output_type": "stream",
          "name": "stderr",
          "text": [
            "\r  9%|▉         | 27/300 [00:07<01:36,  2.81it/s]"
          ]
        },
        {
          "output_type": "stream",
          "name": "stdout",
          "text": [
            "no. of UEs covered (Reward):  40.0\n",
            "-----------------------------episode  28 -----------------------------\n"
          ]
        },
        {
          "output_type": "stream",
          "name": "stderr",
          "text": [
            "\r  9%|▉         | 28/300 [00:08<01:50,  2.47it/s]"
          ]
        },
        {
          "output_type": "stream",
          "name": "stdout",
          "text": [
            "no. of UEs covered (Reward):  20.0\n",
            "-----------------------------episode  29 -----------------------------\n"
          ]
        },
        {
          "output_type": "stream",
          "name": "stderr",
          "text": [
            "\r 10%|▉         | 29/300 [00:08<01:57,  2.30it/s]"
          ]
        },
        {
          "output_type": "stream",
          "name": "stdout",
          "text": [
            "no. of UEs covered (Reward):  30.0\n",
            "-----------------------------episode  30 -----------------------------\n"
          ]
        },
        {
          "output_type": "stream",
          "name": "stderr",
          "text": [
            "\r 10%|█         | 30/300 [00:09<02:05,  2.16it/s]"
          ]
        },
        {
          "output_type": "stream",
          "name": "stdout",
          "text": [
            "no. of UEs covered (Reward):  240.0\n",
            "-----------------------------episode  31 -----------------------------\n"
          ]
        },
        {
          "output_type": "stream",
          "name": "stderr",
          "text": [
            "\r 10%|█         | 31/300 [00:09<02:12,  2.03it/s]"
          ]
        },
        {
          "output_type": "stream",
          "name": "stdout",
          "text": [
            "no. of UEs covered (Reward):  140.0\n",
            "-----------------------------episode  32 -----------------------------\n"
          ]
        },
        {
          "output_type": "stream",
          "name": "stderr",
          "text": [
            "\r 11%|█         | 32/300 [00:10<02:26,  1.82it/s]"
          ]
        },
        {
          "output_type": "stream",
          "name": "stdout",
          "text": [
            "no. of UEs covered (Reward):  20.0\n",
            "-----------------------------episode  33 -----------------------------\n"
          ]
        },
        {
          "output_type": "stream",
          "name": "stderr",
          "text": [
            "\r 11%|█         | 33/300 [00:10<02:10,  2.05it/s]"
          ]
        },
        {
          "output_type": "stream",
          "name": "stdout",
          "text": [
            "no. of UEs covered (Reward):  20.0\n",
            "-----------------------------episode  34 -----------------------------\n"
          ]
        },
        {
          "output_type": "stream",
          "name": "stderr",
          "text": [
            "\r 11%|█▏        | 34/300 [00:11<02:00,  2.22it/s]"
          ]
        },
        {
          "output_type": "stream",
          "name": "stdout",
          "text": [
            "no. of UEs covered (Reward):  20.0\n",
            "-----------------------------episode  35 -----------------------------\n"
          ]
        },
        {
          "output_type": "stream",
          "name": "stderr",
          "text": [
            "\r 12%|█▏        | 35/300 [00:11<01:51,  2.38it/s]"
          ]
        },
        {
          "output_type": "stream",
          "name": "stdout",
          "text": [
            "no. of UEs covered (Reward):  30.0\n",
            "-----------------------------episode  36 -----------------------------\n"
          ]
        },
        {
          "output_type": "stream",
          "name": "stderr",
          "text": [
            "\r 12%|█▏        | 36/300 [00:11<01:44,  2.53it/s]"
          ]
        },
        {
          "output_type": "stream",
          "name": "stdout",
          "text": [
            "no. of UEs covered (Reward):  30.0\n",
            "-----------------------------episode  37 -----------------------------\n"
          ]
        },
        {
          "output_type": "stream",
          "name": "stderr",
          "text": [
            "\r 12%|█▏        | 37/300 [00:12<01:39,  2.64it/s]"
          ]
        },
        {
          "output_type": "stream",
          "name": "stdout",
          "text": [
            "no. of UEs covered (Reward):  330.0\n",
            "-----------------------------episode  38 -----------------------------\n"
          ]
        },
        {
          "output_type": "stream",
          "name": "stderr",
          "text": [
            "\r 13%|█▎        | 38/300 [00:12<01:37,  2.70it/s]"
          ]
        },
        {
          "output_type": "stream",
          "name": "stdout",
          "text": [
            "no. of UEs covered (Reward):  60.0\n",
            "-----------------------------episode  39 -----------------------------\n"
          ]
        },
        {
          "output_type": "stream",
          "name": "stderr",
          "text": [
            "\r 13%|█▎        | 39/300 [00:12<01:34,  2.76it/s]"
          ]
        },
        {
          "output_type": "stream",
          "name": "stdout",
          "text": [
            "no. of UEs covered (Reward):  60.0\n",
            "-----------------------------episode  40 -----------------------------\n"
          ]
        },
        {
          "output_type": "stream",
          "name": "stderr",
          "text": [
            "\r 13%|█▎        | 40/300 [00:13<01:33,  2.78it/s]"
          ]
        },
        {
          "output_type": "stream",
          "name": "stdout",
          "text": [
            "no. of UEs covered (Reward):  80.0\n",
            "-----------------------------episode  41 -----------------------------\n"
          ]
        },
        {
          "output_type": "stream",
          "name": "stderr",
          "text": [
            "\r 14%|█▎        | 41/300 [00:13<01:32,  2.80it/s]"
          ]
        },
        {
          "output_type": "stream",
          "name": "stdout",
          "text": [
            "no. of UEs covered (Reward):  90.0\n",
            "-----------------------------episode  42 -----------------------------\n"
          ]
        },
        {
          "output_type": "stream",
          "name": "stderr",
          "text": [
            "\r 14%|█▍        | 42/300 [00:14<01:31,  2.81it/s]"
          ]
        },
        {
          "output_type": "stream",
          "name": "stdout",
          "text": [
            "no. of UEs covered (Reward):  460.0\n",
            "-----------------------------episode  43 -----------------------------\n"
          ]
        },
        {
          "output_type": "stream",
          "name": "stderr",
          "text": [
            "\r 14%|█▍        | 43/300 [00:14<01:30,  2.83it/s]"
          ]
        },
        {
          "output_type": "stream",
          "name": "stdout",
          "text": [
            "no. of UEs covered (Reward):  70.0\n",
            "-----------------------------episode  44 -----------------------------\n"
          ]
        },
        {
          "output_type": "stream",
          "name": "stderr",
          "text": [
            "\r 15%|█▍        | 44/300 [00:14<01:30,  2.83it/s]"
          ]
        },
        {
          "output_type": "stream",
          "name": "stdout",
          "text": [
            "no. of UEs covered (Reward):  90.0\n",
            "-----------------------------episode  45 -----------------------------\n"
          ]
        },
        {
          "output_type": "stream",
          "name": "stderr",
          "text": [
            "\r 15%|█▌        | 45/300 [00:15<01:30,  2.83it/s]"
          ]
        },
        {
          "output_type": "stream",
          "name": "stdout",
          "text": [
            "no. of UEs covered (Reward):  30.0\n",
            "-----------------------------episode  46 -----------------------------\n"
          ]
        },
        {
          "output_type": "stream",
          "name": "stderr",
          "text": [
            "\r 15%|█▌        | 46/300 [00:15<01:29,  2.84it/s]"
          ]
        },
        {
          "output_type": "stream",
          "name": "stdout",
          "text": [
            "no. of UEs covered (Reward):  10.0\n",
            "-----------------------------episode  47 -----------------------------\n"
          ]
        },
        {
          "output_type": "stream",
          "name": "stderr",
          "text": [
            "\r 16%|█▌        | 47/300 [00:15<01:30,  2.80it/s]"
          ]
        },
        {
          "output_type": "stream",
          "name": "stdout",
          "text": [
            "no. of UEs covered (Reward):  530.0\n",
            "-----------------------------episode  48 -----------------------------\n"
          ]
        },
        {
          "output_type": "stream",
          "name": "stderr",
          "text": [
            "\r 16%|█▌        | 48/300 [00:16<01:32,  2.73it/s]"
          ]
        },
        {
          "output_type": "stream",
          "name": "stdout",
          "text": [
            "no. of UEs covered (Reward):  650.0\n",
            "-----------------------------episode  49 -----------------------------\n"
          ]
        },
        {
          "output_type": "stream",
          "name": "stderr",
          "text": [
            "\r 16%|█▋        | 49/300 [00:16<01:30,  2.77it/s]"
          ]
        },
        {
          "output_type": "stream",
          "name": "stdout",
          "text": [
            "no. of UEs covered (Reward):  40.0\n",
            "-----------------------------episode  50 -----------------------------\n"
          ]
        },
        {
          "output_type": "stream",
          "name": "stderr",
          "text": [
            "\r 17%|█▋        | 50/300 [00:16<01:29,  2.80it/s]"
          ]
        },
        {
          "output_type": "stream",
          "name": "stdout",
          "text": [
            "no. of UEs covered (Reward):  70.0\n",
            "-----------------------------episode  51 -----------------------------\n"
          ]
        },
        {
          "output_type": "stream",
          "name": "stderr",
          "text": [
            "\r 17%|█▋        | 51/300 [00:17<01:29,  2.80it/s]"
          ]
        },
        {
          "output_type": "stream",
          "name": "stdout",
          "text": [
            "no. of UEs covered (Reward):  80.0\n",
            "-----------------------------episode  52 -----------------------------\n"
          ]
        },
        {
          "output_type": "stream",
          "name": "stderr",
          "text": [
            "\r 17%|█▋        | 52/300 [00:17<01:28,  2.81it/s]"
          ]
        },
        {
          "output_type": "stream",
          "name": "stdout",
          "text": [
            "no. of UEs covered (Reward):  210.0\n",
            "-----------------------------episode  53 -----------------------------\n"
          ]
        },
        {
          "output_type": "stream",
          "name": "stderr",
          "text": [
            "\r 18%|█▊        | 53/300 [00:18<01:34,  2.62it/s]"
          ]
        },
        {
          "output_type": "stream",
          "name": "stdout",
          "text": [
            "no. of UEs covered (Reward):  490.0\n",
            "-----------------------------episode  54 -----------------------------\n"
          ]
        },
        {
          "output_type": "stream",
          "name": "stderr",
          "text": [
            "\r 18%|█▊        | 54/300 [00:18<01:45,  2.34it/s]"
          ]
        },
        {
          "output_type": "stream",
          "name": "stdout",
          "text": [
            "no. of UEs covered (Reward):  30.0\n",
            "-----------------------------episode  55 -----------------------------\n"
          ]
        },
        {
          "output_type": "stream",
          "name": "stderr",
          "text": [
            "\r 18%|█▊        | 55/300 [00:19<02:02,  2.00it/s]"
          ]
        },
        {
          "output_type": "stream",
          "name": "stdout",
          "text": [
            "no. of UEs covered (Reward):  90.0\n",
            "-----------------------------episode  56 -----------------------------\n"
          ]
        },
        {
          "output_type": "stream",
          "name": "stderr",
          "text": [
            "\r 19%|█▊        | 56/300 [00:19<02:14,  1.82it/s]"
          ]
        },
        {
          "output_type": "stream",
          "name": "stdout",
          "text": [
            "no. of UEs covered (Reward):  160.0\n",
            "-----------------------------episode  57 -----------------------------\n"
          ]
        },
        {
          "output_type": "stream",
          "name": "stderr",
          "text": [
            "\r 19%|█▉        | 57/300 [00:20<02:48,  1.44it/s]"
          ]
        },
        {
          "output_type": "stream",
          "name": "stdout",
          "text": [
            "no. of UEs covered (Reward):  390.0\n",
            "-----------------------------episode  58 -----------------------------\n"
          ]
        },
        {
          "output_type": "stream",
          "name": "stderr",
          "text": [
            "\r 19%|█▉        | 58/300 [00:22<03:34,  1.13it/s]"
          ]
        },
        {
          "output_type": "stream",
          "name": "stdout",
          "text": [
            "no. of UEs covered (Reward):  550.0\n",
            "-----------------------------episode  59 -----------------------------\n"
          ]
        },
        {
          "output_type": "stream",
          "name": "stderr",
          "text": [
            "\r 20%|█▉        | 59/300 [00:23<03:53,  1.03it/s]"
          ]
        },
        {
          "output_type": "stream",
          "name": "stdout",
          "text": [
            "no. of UEs covered (Reward):  200.0\n",
            "-----------------------------episode  60 -----------------------------\n"
          ]
        },
        {
          "output_type": "stream",
          "name": "stderr",
          "text": [
            "\r 20%|██        | 60/300 [00:24<03:34,  1.12it/s]"
          ]
        },
        {
          "output_type": "stream",
          "name": "stdout",
          "text": [
            "no. of UEs covered (Reward):  20.0\n",
            "-----------------------------episode  61 -----------------------------\n"
          ]
        },
        {
          "output_type": "stream",
          "name": "stderr",
          "text": [
            "\r 20%|██        | 61/300 [00:25<03:34,  1.11it/s]"
          ]
        },
        {
          "output_type": "stream",
          "name": "stdout",
          "text": [
            "no. of UEs covered (Reward):  250.0\n",
            "-----------------------------episode  62 -----------------------------\n"
          ]
        },
        {
          "output_type": "stream",
          "name": "stderr",
          "text": [
            "\r 21%|██        | 62/300 [00:25<03:25,  1.16it/s]"
          ]
        },
        {
          "output_type": "stream",
          "name": "stdout",
          "text": [
            "no. of UEs covered (Reward):  40.0\n",
            "-----------------------------episode  63 -----------------------------\n"
          ]
        },
        {
          "output_type": "stream",
          "name": "stderr",
          "text": [
            "\r 21%|██        | 63/300 [00:26<03:19,  1.19it/s]"
          ]
        },
        {
          "output_type": "stream",
          "name": "stdout",
          "text": [
            "no. of UEs covered (Reward):  130.0\n",
            "-----------------------------episode  64 -----------------------------\n"
          ]
        },
        {
          "output_type": "stream",
          "name": "stderr",
          "text": [
            "\r 21%|██▏       | 64/300 [00:27<03:22,  1.16it/s]"
          ]
        },
        {
          "output_type": "stream",
          "name": "stdout",
          "text": [
            "no. of UEs covered (Reward):  240.0\n",
            "-----------------------------episode  65 -----------------------------\n"
          ]
        },
        {
          "output_type": "stream",
          "name": "stderr",
          "text": [
            "\r 22%|██▏       | 65/300 [00:28<03:18,  1.19it/s]"
          ]
        },
        {
          "output_type": "stream",
          "name": "stdout",
          "text": [
            "no. of UEs covered (Reward):  290.0\n",
            "-----------------------------episode  66 -----------------------------\n"
          ]
        },
        {
          "output_type": "stream",
          "name": "stderr",
          "text": [
            "\r 22%|██▏       | 66/300 [00:29<03:15,  1.20it/s]"
          ]
        },
        {
          "output_type": "stream",
          "name": "stdout",
          "text": [
            "no. of UEs covered (Reward):  200.0\n",
            "-----------------------------episode  67 -----------------------------\n"
          ]
        },
        {
          "output_type": "stream",
          "name": "stderr",
          "text": [
            "\r 22%|██▏       | 67/300 [00:29<03:05,  1.25it/s]"
          ]
        },
        {
          "output_type": "stream",
          "name": "stdout",
          "text": [
            "no. of UEs covered (Reward):  280.0\n",
            "-----------------------------episode  68 -----------------------------\n"
          ]
        },
        {
          "output_type": "stream",
          "name": "stderr",
          "text": [
            "\r 23%|██▎       | 68/300 [00:30<03:02,  1.27it/s]"
          ]
        },
        {
          "output_type": "stream",
          "name": "stdout",
          "text": [
            "no. of UEs covered (Reward):  280.0\n",
            "-----------------------------episode  69 -----------------------------\n"
          ]
        },
        {
          "output_type": "stream",
          "name": "stderr",
          "text": [
            "\r 23%|██▎       | 69/300 [00:31<03:09,  1.22it/s]"
          ]
        },
        {
          "output_type": "stream",
          "name": "stdout",
          "text": [
            "no. of UEs covered (Reward):  200.0\n",
            "-----------------------------episode  70 -----------------------------\n"
          ]
        },
        {
          "output_type": "stream",
          "name": "stderr",
          "text": [
            "\r 23%|██▎       | 70/300 [00:32<02:56,  1.30it/s]"
          ]
        },
        {
          "output_type": "stream",
          "name": "stdout",
          "text": [
            "no. of UEs covered (Reward):  270.0\n",
            "-----------------------------episode  71 -----------------------------\n"
          ]
        },
        {
          "output_type": "stream",
          "name": "stderr",
          "text": [
            "\r 24%|██▎       | 71/300 [00:33<03:03,  1.25it/s]"
          ]
        },
        {
          "output_type": "stream",
          "name": "stdout",
          "text": [
            "no. of UEs covered (Reward):  490.0\n",
            "-----------------------------episode  72 -----------------------------\n"
          ]
        },
        {
          "output_type": "stream",
          "name": "stderr",
          "text": [
            "\r 24%|██▍       | 72/300 [00:34<03:14,  1.17it/s]"
          ]
        },
        {
          "output_type": "stream",
          "name": "stdout",
          "text": [
            "no. of UEs covered (Reward):  200.0\n",
            "-----------------------------episode  73 -----------------------------\n"
          ]
        },
        {
          "output_type": "stream",
          "name": "stderr",
          "text": [
            "\r 24%|██▍       | 73/300 [00:34<03:15,  1.16it/s]"
          ]
        },
        {
          "output_type": "stream",
          "name": "stdout",
          "text": [
            "no. of UEs covered (Reward):  280.0\n",
            "-----------------------------episode  74 -----------------------------\n"
          ]
        },
        {
          "output_type": "stream",
          "name": "stderr",
          "text": [
            "\r 25%|██▍       | 74/300 [00:35<02:51,  1.31it/s]"
          ]
        },
        {
          "output_type": "stream",
          "name": "stdout",
          "text": [
            "no. of UEs covered (Reward):  250.0\n",
            "-----------------------------episode  75 -----------------------------\n"
          ]
        },
        {
          "output_type": "stream",
          "name": "stderr",
          "text": [
            "\r 25%|██▌       | 75/300 [00:35<02:36,  1.44it/s]"
          ]
        },
        {
          "output_type": "stream",
          "name": "stdout",
          "text": [
            "no. of UEs covered (Reward):  20.0\n",
            "-----------------------------episode  76 -----------------------------\n"
          ]
        },
        {
          "output_type": "stream",
          "name": "stderr",
          "text": [
            "\r 25%|██▌       | 76/300 [00:36<02:17,  1.63it/s]"
          ]
        },
        {
          "output_type": "stream",
          "name": "stdout",
          "text": [
            "no. of UEs covered (Reward):  220.0\n",
            "-----------------------------episode  77 -----------------------------\n"
          ]
        },
        {
          "output_type": "stream",
          "name": "stderr",
          "text": [
            "\r 26%|██▌       | 77/300 [00:36<02:00,  1.84it/s]"
          ]
        },
        {
          "output_type": "stream",
          "name": "stdout",
          "text": [
            "no. of UEs covered (Reward):  510.0\n",
            "-----------------------------episode  78 -----------------------------\n"
          ]
        },
        {
          "output_type": "stream",
          "name": "stderr",
          "text": [
            "\r 26%|██▌       | 78/300 [00:37<01:48,  2.05it/s]"
          ]
        },
        {
          "output_type": "stream",
          "name": "stdout",
          "text": [
            "no. of UEs covered (Reward):  260.0\n",
            "-----------------------------episode  79 -----------------------------\n"
          ]
        },
        {
          "output_type": "stream",
          "name": "stderr",
          "text": [
            "\r 26%|██▋       | 79/300 [00:37<01:39,  2.23it/s]"
          ]
        },
        {
          "output_type": "stream",
          "name": "stdout",
          "text": [
            "no. of UEs covered (Reward):  290.0\n",
            "-----------------------------episode  80 -----------------------------\n"
          ]
        },
        {
          "output_type": "stream",
          "name": "stderr",
          "text": [
            "\r 27%|██▋       | 80/300 [00:37<01:32,  2.37it/s]"
          ]
        },
        {
          "output_type": "stream",
          "name": "stdout",
          "text": [
            "no. of UEs covered (Reward):  280.0\n",
            "-----------------------------episode  81 -----------------------------\n"
          ]
        },
        {
          "output_type": "stream",
          "name": "stderr",
          "text": [
            "\r 27%|██▋       | 81/300 [00:38<01:28,  2.48it/s]"
          ]
        },
        {
          "output_type": "stream",
          "name": "stdout",
          "text": [
            "no. of UEs covered (Reward):  280.0\n",
            "-----------------------------episode  82 -----------------------------\n"
          ]
        },
        {
          "output_type": "stream",
          "name": "stderr",
          "text": [
            "\r 27%|██▋       | 82/300 [00:38<01:25,  2.55it/s]"
          ]
        },
        {
          "output_type": "stream",
          "name": "stdout",
          "text": [
            "no. of UEs covered (Reward):  10.0\n",
            "-----------------------------episode  83 -----------------------------\n"
          ]
        },
        {
          "output_type": "stream",
          "name": "stderr",
          "text": [
            "\r 28%|██▊       | 83/300 [00:38<01:23,  2.61it/s]"
          ]
        },
        {
          "output_type": "stream",
          "name": "stdout",
          "text": [
            "no. of UEs covered (Reward):  90.0\n",
            "-----------------------------episode  84 -----------------------------\n"
          ]
        },
        {
          "output_type": "stream",
          "name": "stderr",
          "text": [
            "\r 28%|██▊       | 84/300 [00:39<01:21,  2.66it/s]"
          ]
        },
        {
          "output_type": "stream",
          "name": "stdout",
          "text": [
            "no. of UEs covered (Reward):  20.0\n",
            "-----------------------------episode  85 -----------------------------\n"
          ]
        },
        {
          "output_type": "stream",
          "name": "stderr",
          "text": [
            "\r 28%|██▊       | 85/300 [00:39<01:19,  2.70it/s]"
          ]
        },
        {
          "output_type": "stream",
          "name": "stdout",
          "text": [
            "no. of UEs covered (Reward):  490.0\n",
            "-----------------------------episode  86 -----------------------------\n"
          ]
        },
        {
          "output_type": "stream",
          "name": "stderr",
          "text": [
            "\r 29%|██▊       | 86/300 [00:40<01:18,  2.74it/s]"
          ]
        },
        {
          "output_type": "stream",
          "name": "stdout",
          "text": [
            "no. of UEs covered (Reward):  70.0\n",
            "-----------------------------episode  87 -----------------------------\n"
          ]
        },
        {
          "output_type": "stream",
          "name": "stderr",
          "text": [
            "\r 29%|██▉       | 87/300 [00:40<01:17,  2.75it/s]"
          ]
        },
        {
          "output_type": "stream",
          "name": "stdout",
          "text": [
            "no. of UEs covered (Reward):  80.0\n",
            "-----------------------------episode  88 -----------------------------\n"
          ]
        },
        {
          "output_type": "stream",
          "name": "stderr",
          "text": [
            "\r 29%|██▉       | 88/300 [00:40<01:17,  2.73it/s]"
          ]
        },
        {
          "output_type": "stream",
          "name": "stdout",
          "text": [
            "no. of UEs covered (Reward):  350.0\n",
            "-----------------------------episode  89 -----------------------------\n"
          ]
        },
        {
          "output_type": "stream",
          "name": "stderr",
          "text": [
            "\r 30%|██▉       | 89/300 [00:41<01:17,  2.72it/s]"
          ]
        },
        {
          "output_type": "stream",
          "name": "stdout",
          "text": [
            "no. of UEs covered (Reward):  430.0\n",
            "-----------------------------episode  90 -----------------------------\n"
          ]
        },
        {
          "output_type": "stream",
          "name": "stderr",
          "text": [
            "\r 30%|███       | 90/300 [00:41<01:16,  2.74it/s]"
          ]
        },
        {
          "output_type": "stream",
          "name": "stdout",
          "text": [
            "no. of UEs covered (Reward):  50.0\n",
            "-----------------------------episode  91 -----------------------------\n"
          ]
        },
        {
          "output_type": "stream",
          "name": "stderr",
          "text": [
            "\r 30%|███       | 91/300 [00:41<01:16,  2.72it/s]"
          ]
        },
        {
          "output_type": "stream",
          "name": "stdout",
          "text": [
            "no. of UEs covered (Reward):  50.0\n",
            "-----------------------------episode  92 -----------------------------\n"
          ]
        },
        {
          "output_type": "stream",
          "name": "stderr",
          "text": [
            "\r 31%|███       | 92/300 [00:42<01:15,  2.76it/s]"
          ]
        },
        {
          "output_type": "stream",
          "name": "stdout",
          "text": [
            "no. of UEs covered (Reward):  80.0\n",
            "-----------------------------episode  93 -----------------------------\n"
          ]
        },
        {
          "output_type": "stream",
          "name": "stderr",
          "text": [
            "\r 31%|███       | 93/300 [00:42<01:13,  2.80it/s]"
          ]
        },
        {
          "output_type": "stream",
          "name": "stdout",
          "text": [
            "no. of UEs covered (Reward):  520.0\n",
            "-----------------------------episode  94 -----------------------------\n"
          ]
        },
        {
          "output_type": "stream",
          "name": "stderr",
          "text": [
            "\r 31%|███▏      | 94/300 [00:42<01:13,  2.78it/s]"
          ]
        },
        {
          "output_type": "stream",
          "name": "stdout",
          "text": [
            "no. of UEs covered (Reward):  30.0\n",
            "-----------------------------episode  95 -----------------------------\n"
          ]
        },
        {
          "output_type": "stream",
          "name": "stderr",
          "text": [
            "\r 32%|███▏      | 95/300 [00:43<01:13,  2.77it/s]"
          ]
        },
        {
          "output_type": "stream",
          "name": "stdout",
          "text": [
            "no. of UEs covered (Reward):  80.0\n",
            "-----------------------------episode  96 -----------------------------\n"
          ]
        },
        {
          "output_type": "stream",
          "name": "stderr",
          "text": [
            "\r 32%|███▏      | 96/300 [00:43<01:13,  2.76it/s]"
          ]
        },
        {
          "output_type": "stream",
          "name": "stdout",
          "text": [
            "no. of UEs covered (Reward):  480.0\n",
            "-----------------------------episode  97 -----------------------------\n"
          ]
        },
        {
          "output_type": "stream",
          "name": "stderr",
          "text": [
            "\r 32%|███▏      | 97/300 [00:44<01:15,  2.67it/s]"
          ]
        },
        {
          "output_type": "stream",
          "name": "stdout",
          "text": [
            "no. of UEs covered (Reward):  250.0\n",
            "-----------------------------episode  98 -----------------------------\n"
          ]
        },
        {
          "output_type": "stream",
          "name": "stderr",
          "text": [
            "\r 33%|███▎      | 98/300 [00:44<01:15,  2.69it/s]"
          ]
        },
        {
          "output_type": "stream",
          "name": "stdout",
          "text": [
            "no. of UEs covered (Reward):  250.0\n",
            "-----------------------------episode  99 -----------------------------\n"
          ]
        },
        {
          "output_type": "stream",
          "name": "stderr",
          "text": [
            "\r 33%|███▎      | 99/300 [00:44<01:13,  2.73it/s]"
          ]
        },
        {
          "output_type": "stream",
          "name": "stdout",
          "text": [
            "no. of UEs covered (Reward):  300.0\n",
            "-----------------------------episode  100 -----------------------------\n"
          ]
        },
        {
          "output_type": "stream",
          "name": "stderr",
          "text": [
            "\r 33%|███▎      | 100/300 [00:45<01:13,  2.73it/s]"
          ]
        },
        {
          "output_type": "stream",
          "name": "stdout",
          "text": [
            "no. of UEs covered (Reward):  480.0\n",
            "-----------------------------episode  101 -----------------------------\n"
          ]
        },
        {
          "output_type": "stream",
          "name": "stderr",
          "text": [
            "\r 34%|███▎      | 101/300 [00:45<01:13,  2.71it/s]"
          ]
        },
        {
          "output_type": "stream",
          "name": "stdout",
          "text": [
            "no. of UEs covered (Reward):  40.0\n",
            "-----------------------------episode  102 -----------------------------\n"
          ]
        },
        {
          "output_type": "stream",
          "name": "stderr",
          "text": [
            "\r 34%|███▍      | 102/300 [00:45<01:12,  2.72it/s]"
          ]
        },
        {
          "output_type": "stream",
          "name": "stdout",
          "text": [
            "no. of UEs covered (Reward):  20.0\n",
            "-----------------------------episode  103 -----------------------------\n"
          ]
        },
        {
          "output_type": "stream",
          "name": "stderr",
          "text": [
            "\r 34%|███▍      | 103/300 [00:46<01:14,  2.65it/s]"
          ]
        },
        {
          "output_type": "stream",
          "name": "stdout",
          "text": [
            "no. of UEs covered (Reward):  550.0\n",
            "-----------------------------episode  104 -----------------------------\n"
          ]
        },
        {
          "output_type": "stream",
          "name": "stderr",
          "text": [
            "\r 35%|███▍      | 104/300 [00:46<01:22,  2.39it/s]"
          ]
        },
        {
          "output_type": "stream",
          "name": "stdout",
          "text": [
            "no. of UEs covered (Reward):  250.0\n",
            "-----------------------------episode  105 -----------------------------\n"
          ]
        },
        {
          "output_type": "stream",
          "name": "stderr",
          "text": [
            "\r 35%|███▌      | 105/300 [00:47<01:28,  2.22it/s]"
          ]
        },
        {
          "output_type": "stream",
          "name": "stdout",
          "text": [
            "no. of UEs covered (Reward):  40.0\n",
            "-----------------------------episode  106 -----------------------------\n"
          ]
        },
        {
          "output_type": "stream",
          "name": "stderr",
          "text": [
            "\r 35%|███▌      | 106/300 [00:47<01:30,  2.13it/s]"
          ]
        },
        {
          "output_type": "stream",
          "name": "stdout",
          "text": [
            "no. of UEs covered (Reward):  570.0\n",
            "-----------------------------episode  107 -----------------------------\n"
          ]
        },
        {
          "output_type": "stream",
          "name": "stderr",
          "text": [
            "\r 36%|███▌      | 107/300 [00:48<01:33,  2.05it/s]"
          ]
        },
        {
          "output_type": "stream",
          "name": "stdout",
          "text": [
            "no. of UEs covered (Reward):  200.0\n",
            "-----------------------------episode  108 -----------------------------\n"
          ]
        },
        {
          "output_type": "stream",
          "name": "stderr",
          "text": [
            "\r 36%|███▌      | 108/300 [00:48<01:33,  2.06it/s]"
          ]
        },
        {
          "output_type": "stream",
          "name": "stdout",
          "text": [
            "no. of UEs covered (Reward):  30.0\n",
            "-----------------------------episode  109 -----------------------------\n"
          ]
        },
        {
          "output_type": "stream",
          "name": "stderr",
          "text": [
            "\r 36%|███▋      | 109/300 [00:49<01:25,  2.23it/s]"
          ]
        },
        {
          "output_type": "stream",
          "name": "stdout",
          "text": [
            "no. of UEs covered (Reward):  400.0\n",
            "-----------------------------episode  110 -----------------------------\n"
          ]
        },
        {
          "output_type": "stream",
          "name": "stderr",
          "text": [
            "\r 37%|███▋      | 110/300 [00:49<01:20,  2.36it/s]"
          ]
        },
        {
          "output_type": "stream",
          "name": "stdout",
          "text": [
            "no. of UEs covered (Reward):  530.0\n",
            "-----------------------------episode  111 -----------------------------\n"
          ]
        },
        {
          "output_type": "stream",
          "name": "stderr",
          "text": [
            "\r 37%|███▋      | 111/300 [00:49<01:16,  2.47it/s]"
          ]
        },
        {
          "output_type": "stream",
          "name": "stdout",
          "text": [
            "no. of UEs covered (Reward):  160.0\n",
            "-----------------------------episode  112 -----------------------------\n"
          ]
        },
        {
          "output_type": "stream",
          "name": "stderr",
          "text": [
            "\r 37%|███▋      | 112/300 [00:50<01:14,  2.54it/s]"
          ]
        },
        {
          "output_type": "stream",
          "name": "stdout",
          "text": [
            "no. of UEs covered (Reward):  200.0\n",
            "-----------------------------episode  113 -----------------------------\n"
          ]
        },
        {
          "output_type": "stream",
          "name": "stderr",
          "text": [
            "\r 38%|███▊      | 113/300 [00:50<01:11,  2.62it/s]"
          ]
        },
        {
          "output_type": "stream",
          "name": "stdout",
          "text": [
            "no. of UEs covered (Reward):  370.0\n",
            "-----------------------------episode  114 -----------------------------\n"
          ]
        },
        {
          "output_type": "stream",
          "name": "stderr",
          "text": [
            "\r 38%|███▊      | 114/300 [00:51<01:10,  2.62it/s]"
          ]
        },
        {
          "output_type": "stream",
          "name": "stdout",
          "text": [
            "no. of UEs covered (Reward):  330.0\n",
            "-----------------------------episode  115 -----------------------------\n"
          ]
        },
        {
          "output_type": "stream",
          "name": "stderr",
          "text": [
            "\r 38%|███▊      | 115/300 [00:51<01:09,  2.68it/s]"
          ]
        },
        {
          "output_type": "stream",
          "name": "stdout",
          "text": [
            "no. of UEs covered (Reward):  380.0\n",
            "-----------------------------episode  116 -----------------------------\n"
          ]
        },
        {
          "output_type": "stream",
          "name": "stderr",
          "text": [
            "\r 39%|███▊      | 116/300 [00:51<01:07,  2.72it/s]"
          ]
        },
        {
          "output_type": "stream",
          "name": "stdout",
          "text": [
            "no. of UEs covered (Reward):  540.0\n",
            "-----------------------------episode  117 -----------------------------\n"
          ]
        },
        {
          "output_type": "stream",
          "name": "stderr",
          "text": [
            "\r 39%|███▉      | 117/300 [00:52<01:07,  2.70it/s]"
          ]
        },
        {
          "output_type": "stream",
          "name": "stdout",
          "text": [
            "no. of UEs covered (Reward):  480.0\n",
            "-----------------------------episode  118 -----------------------------\n"
          ]
        },
        {
          "output_type": "stream",
          "name": "stderr",
          "text": [
            "\r 39%|███▉      | 118/300 [00:52<01:07,  2.71it/s]"
          ]
        },
        {
          "output_type": "stream",
          "name": "stdout",
          "text": [
            "no. of UEs covered (Reward):  340.0\n",
            "-----------------------------episode  119 -----------------------------\n"
          ]
        },
        {
          "output_type": "stream",
          "name": "stderr",
          "text": [
            "\r 40%|███▉      | 119/300 [00:52<01:06,  2.73it/s]"
          ]
        },
        {
          "output_type": "stream",
          "name": "stdout",
          "text": [
            "no. of UEs covered (Reward):  40.0\n",
            "-----------------------------episode  120 -----------------------------\n"
          ]
        },
        {
          "output_type": "stream",
          "name": "stderr",
          "text": [
            "\r 40%|████      | 120/300 [00:53<01:06,  2.71it/s]"
          ]
        },
        {
          "output_type": "stream",
          "name": "stdout",
          "text": [
            "no. of UEs covered (Reward):  310.0\n",
            "-----------------------------episode  121 -----------------------------\n"
          ]
        },
        {
          "output_type": "stream",
          "name": "stderr",
          "text": [
            "\r 40%|████      | 121/300 [00:53<01:06,  2.68it/s]"
          ]
        },
        {
          "output_type": "stream",
          "name": "stdout",
          "text": [
            "no. of UEs covered (Reward):  390.0\n",
            "-----------------------------episode  122 -----------------------------\n"
          ]
        },
        {
          "output_type": "stream",
          "name": "stderr",
          "text": [
            "\r 41%|████      | 122/300 [00:53<01:05,  2.71it/s]"
          ]
        },
        {
          "output_type": "stream",
          "name": "stdout",
          "text": [
            "no. of UEs covered (Reward):  50.0\n",
            "-----------------------------episode  123 -----------------------------\n"
          ]
        },
        {
          "output_type": "stream",
          "name": "stderr",
          "text": [
            "\r 41%|████      | 123/300 [00:54<01:07,  2.60it/s]"
          ]
        },
        {
          "output_type": "stream",
          "name": "stdout",
          "text": [
            "no. of UEs covered (Reward):  410.0\n",
            "-----------------------------episode  124 -----------------------------\n"
          ]
        },
        {
          "output_type": "stream",
          "name": "stderr",
          "text": [
            "\r 41%|████▏     | 124/300 [00:54<01:07,  2.62it/s]"
          ]
        },
        {
          "output_type": "stream",
          "name": "stdout",
          "text": [
            "no. of UEs covered (Reward):  60.0\n",
            "-----------------------------episode  125 -----------------------------\n"
          ]
        },
        {
          "output_type": "stream",
          "name": "stderr",
          "text": [
            "\r 42%|████▏     | 125/300 [00:55<01:06,  2.63it/s]"
          ]
        },
        {
          "output_type": "stream",
          "name": "stdout",
          "text": [
            "no. of UEs covered (Reward):  580.0\n",
            "-----------------------------episode  126 -----------------------------\n"
          ]
        },
        {
          "output_type": "stream",
          "name": "stderr",
          "text": [
            "\r 42%|████▏     | 126/300 [00:55<01:05,  2.66it/s]"
          ]
        },
        {
          "output_type": "stream",
          "name": "stdout",
          "text": [
            "no. of UEs covered (Reward):  450.0\n",
            "-----------------------------episode  127 -----------------------------\n"
          ]
        },
        {
          "output_type": "stream",
          "name": "stderr",
          "text": [
            "\r 42%|████▏     | 127/300 [00:55<01:05,  2.65it/s]"
          ]
        },
        {
          "output_type": "stream",
          "name": "stdout",
          "text": [
            "no. of UEs covered (Reward):  210.0\n",
            "-----------------------------episode  128 -----------------------------\n"
          ]
        },
        {
          "output_type": "stream",
          "name": "stderr",
          "text": [
            "\r 43%|████▎     | 128/300 [00:56<01:04,  2.66it/s]"
          ]
        },
        {
          "output_type": "stream",
          "name": "stdout",
          "text": [
            "no. of UEs covered (Reward):  70.0\n",
            "-----------------------------episode  129 -----------------------------\n"
          ]
        },
        {
          "output_type": "stream",
          "name": "stderr",
          "text": [
            "\r 43%|████▎     | 129/300 [00:56<01:04,  2.66it/s]"
          ]
        },
        {
          "output_type": "stream",
          "name": "stdout",
          "text": [
            "no. of UEs covered (Reward):  330.0\n",
            "-----------------------------episode  130 -----------------------------\n"
          ]
        },
        {
          "output_type": "stream",
          "name": "stderr",
          "text": [
            "\r 43%|████▎     | 130/300 [00:57<01:03,  2.69it/s]"
          ]
        },
        {
          "output_type": "stream",
          "name": "stdout",
          "text": [
            "no. of UEs covered (Reward):  270.0\n",
            "-----------------------------episode  131 -----------------------------\n"
          ]
        },
        {
          "output_type": "stream",
          "name": "stderr",
          "text": [
            "\r 44%|████▎     | 131/300 [00:57<01:02,  2.70it/s]"
          ]
        },
        {
          "output_type": "stream",
          "name": "stdout",
          "text": [
            "no. of UEs covered (Reward):  230.0\n",
            "-----------------------------episode  132 -----------------------------\n"
          ]
        },
        {
          "output_type": "stream",
          "name": "stderr",
          "text": [
            "\r 44%|████▍     | 132/300 [00:57<01:02,  2.70it/s]"
          ]
        },
        {
          "output_type": "stream",
          "name": "stdout",
          "text": [
            "no. of UEs covered (Reward):  550.0\n",
            "-----------------------------episode  133 -----------------------------\n"
          ]
        },
        {
          "output_type": "stream",
          "name": "stderr",
          "text": [
            "\r 44%|████▍     | 133/300 [00:58<01:01,  2.71it/s]"
          ]
        },
        {
          "output_type": "stream",
          "name": "stdout",
          "text": [
            "no. of UEs covered (Reward):  280.0\n",
            "-----------------------------episode  134 -----------------------------\n"
          ]
        },
        {
          "output_type": "stream",
          "name": "stderr",
          "text": [
            "\r 45%|████▍     | 134/300 [00:58<01:01,  2.71it/s]"
          ]
        },
        {
          "output_type": "stream",
          "name": "stdout",
          "text": [
            "no. of UEs covered (Reward):  80.0\n",
            "-----------------------------episode  135 -----------------------------\n"
          ]
        },
        {
          "output_type": "stream",
          "name": "stderr",
          "text": [
            "\r 45%|████▌     | 135/300 [00:58<01:02,  2.65it/s]"
          ]
        },
        {
          "output_type": "stream",
          "name": "stdout",
          "text": [
            "no. of UEs covered (Reward):  530.0\n",
            "-----------------------------episode  136 -----------------------------\n"
          ]
        },
        {
          "output_type": "stream",
          "name": "stderr",
          "text": [
            "\r 45%|████▌     | 136/300 [00:59<01:09,  2.38it/s]"
          ]
        },
        {
          "output_type": "stream",
          "name": "stdout",
          "text": [
            "no. of UEs covered (Reward):  30.0\n",
            "-----------------------------episode  137 -----------------------------\n"
          ]
        },
        {
          "output_type": "stream",
          "name": "stderr",
          "text": [
            "\r 46%|████▌     | 137/300 [00:59<01:14,  2.19it/s]"
          ]
        },
        {
          "output_type": "stream",
          "name": "stdout",
          "text": [
            "no. of UEs covered (Reward):  440.0\n",
            "-----------------------------episode  138 -----------------------------\n"
          ]
        },
        {
          "output_type": "stream",
          "name": "stderr",
          "text": [
            "\r 46%|████▌     | 138/300 [01:00<01:16,  2.11it/s]"
          ]
        },
        {
          "output_type": "stream",
          "name": "stdout",
          "text": [
            "no. of UEs covered (Reward):  210.0\n",
            "-----------------------------episode  139 -----------------------------\n"
          ]
        },
        {
          "output_type": "stream",
          "name": "stderr",
          "text": [
            "\r 46%|████▋     | 139/300 [01:00<01:18,  2.06it/s]"
          ]
        },
        {
          "output_type": "stream",
          "name": "stdout",
          "text": [
            "no. of UEs covered (Reward):  20.0\n",
            "-----------------------------episode  140 -----------------------------\n"
          ]
        },
        {
          "output_type": "stream",
          "name": "stderr",
          "text": [
            "\r 47%|████▋     | 140/300 [01:01<01:18,  2.04it/s]"
          ]
        },
        {
          "output_type": "stream",
          "name": "stdout",
          "text": [
            "no. of UEs covered (Reward):  10.0\n",
            "-----------------------------episode  141 -----------------------------\n"
          ]
        },
        {
          "output_type": "stream",
          "name": "stderr",
          "text": [
            "\r 47%|████▋     | 141/300 [01:01<01:11,  2.23it/s]"
          ]
        },
        {
          "output_type": "stream",
          "name": "stdout",
          "text": [
            "no. of UEs covered (Reward):  460.0\n",
            "-----------------------------episode  142 -----------------------------\n"
          ]
        },
        {
          "output_type": "stream",
          "name": "stderr",
          "text": [
            "\r 47%|████▋     | 142/300 [01:02<01:06,  2.38it/s]"
          ]
        },
        {
          "output_type": "stream",
          "name": "stdout",
          "text": [
            "no. of UEs covered (Reward):  20.0\n",
            "-----------------------------episode  143 -----------------------------\n"
          ]
        },
        {
          "output_type": "stream",
          "name": "stderr",
          "text": [
            "\r 48%|████▊     | 143/300 [01:02<01:03,  2.47it/s]"
          ]
        },
        {
          "output_type": "stream",
          "name": "stdout",
          "text": [
            "no. of UEs covered (Reward):  310.0\n",
            "-----------------------------episode  144 -----------------------------\n"
          ]
        },
        {
          "output_type": "stream",
          "name": "stderr",
          "text": [
            "\r 48%|████▊     | 144/300 [01:02<01:00,  2.57it/s]"
          ]
        },
        {
          "output_type": "stream",
          "name": "stdout",
          "text": [
            "no. of UEs covered (Reward):  220.0\n",
            "-----------------------------episode  145 -----------------------------\n"
          ]
        },
        {
          "output_type": "stream",
          "name": "stderr",
          "text": [
            "\r 48%|████▊     | 145/300 [01:03<00:58,  2.64it/s]"
          ]
        },
        {
          "output_type": "stream",
          "name": "stdout",
          "text": [
            "no. of UEs covered (Reward):  550.0\n",
            "-----------------------------episode  146 -----------------------------\n"
          ]
        },
        {
          "output_type": "stream",
          "name": "stderr",
          "text": [
            "\r 49%|████▊     | 146/300 [01:03<00:57,  2.68it/s]"
          ]
        },
        {
          "output_type": "stream",
          "name": "stdout",
          "text": [
            "no. of UEs covered (Reward):  140.0\n",
            "-----------------------------episode  147 -----------------------------\n"
          ]
        },
        {
          "output_type": "stream",
          "name": "stderr",
          "text": [
            "\r 49%|████▉     | 147/300 [01:03<00:56,  2.71it/s]"
          ]
        },
        {
          "output_type": "stream",
          "name": "stdout",
          "text": [
            "no. of UEs covered (Reward):  130.0\n",
            "-----------------------------episode  148 -----------------------------\n"
          ]
        },
        {
          "output_type": "stream",
          "name": "stderr",
          "text": [
            "\r 49%|████▉     | 148/300 [01:04<00:56,  2.71it/s]"
          ]
        },
        {
          "output_type": "stream",
          "name": "stdout",
          "text": [
            "no. of UEs covered (Reward):  170.0\n",
            "-----------------------------episode  149 -----------------------------\n"
          ]
        },
        {
          "output_type": "stream",
          "name": "stderr",
          "text": [
            "\r 50%|████▉     | 149/300 [01:04<00:55,  2.71it/s]"
          ]
        },
        {
          "output_type": "stream",
          "name": "stdout",
          "text": [
            "no. of UEs covered (Reward):  270.0\n",
            "-----------------------------episode  150 -----------------------------\n"
          ]
        },
        {
          "output_type": "stream",
          "name": "stderr",
          "text": [
            "\r 50%|█████     | 150/300 [01:05<00:55,  2.70it/s]"
          ]
        },
        {
          "output_type": "stream",
          "name": "stdout",
          "text": [
            "no. of UEs covered (Reward):  250.0\n",
            "-----------------------------episode  151 -----------------------------\n"
          ]
        },
        {
          "output_type": "stream",
          "name": "stderr",
          "text": [
            "\r 50%|█████     | 151/300 [01:05<00:54,  2.72it/s]"
          ]
        },
        {
          "output_type": "stream",
          "name": "stdout",
          "text": [
            "no. of UEs covered (Reward):  310.0\n",
            "-----------------------------episode  152 -----------------------------\n"
          ]
        },
        {
          "output_type": "stream",
          "name": "stderr",
          "text": [
            "\r 51%|█████     | 152/300 [01:05<00:54,  2.69it/s]"
          ]
        },
        {
          "output_type": "stream",
          "name": "stdout",
          "text": [
            "no. of UEs covered (Reward):  420.0\n",
            "-----------------------------episode  153 -----------------------------\n"
          ]
        },
        {
          "output_type": "stream",
          "name": "stderr",
          "text": [
            "\r 51%|█████     | 153/300 [01:06<00:55,  2.65it/s]"
          ]
        },
        {
          "output_type": "stream",
          "name": "stdout",
          "text": [
            "no. of UEs covered (Reward):  210.0\n",
            "-----------------------------episode  154 -----------------------------\n"
          ]
        },
        {
          "output_type": "stream",
          "name": "stderr",
          "text": [
            "\r 51%|█████▏    | 154/300 [01:06<00:55,  2.65it/s]"
          ]
        },
        {
          "output_type": "stream",
          "name": "stdout",
          "text": [
            "no. of UEs covered (Reward):  380.0\n",
            "-----------------------------episode  155 -----------------------------\n"
          ]
        },
        {
          "output_type": "stream",
          "name": "stderr",
          "text": [
            "\r 52%|█████▏    | 155/300 [01:06<00:54,  2.66it/s]"
          ]
        },
        {
          "output_type": "stream",
          "name": "stdout",
          "text": [
            "no. of UEs covered (Reward):  350.0\n",
            "-----------------------------episode  156 -----------------------------\n"
          ]
        },
        {
          "output_type": "stream",
          "name": "stderr",
          "text": [
            "\r 52%|█████▏    | 156/300 [01:07<00:53,  2.70it/s]"
          ]
        },
        {
          "output_type": "stream",
          "name": "stdout",
          "text": [
            "no. of UEs covered (Reward):  380.0\n",
            "-----------------------------episode  157 -----------------------------\n"
          ]
        },
        {
          "output_type": "stream",
          "name": "stderr",
          "text": [
            "\r 52%|█████▏    | 157/300 [01:07<00:52,  2.72it/s]"
          ]
        },
        {
          "output_type": "stream",
          "name": "stdout",
          "text": [
            "no. of UEs covered (Reward):  260.0\n",
            "-----------------------------episode  158 -----------------------------\n"
          ]
        },
        {
          "output_type": "stream",
          "name": "stderr",
          "text": [
            "\r 53%|█████▎    | 158/300 [01:08<00:51,  2.74it/s]"
          ]
        },
        {
          "output_type": "stream",
          "name": "stdout",
          "text": [
            "no. of UEs covered (Reward):  290.0\n",
            "-----------------------------episode  159 -----------------------------\n"
          ]
        },
        {
          "output_type": "stream",
          "name": "stderr",
          "text": [
            "\r 53%|█████▎    | 159/300 [01:08<00:52,  2.70it/s]"
          ]
        },
        {
          "output_type": "stream",
          "name": "stdout",
          "text": [
            "no. of UEs covered (Reward):  450.0\n",
            "-----------------------------episode  160 -----------------------------\n"
          ]
        },
        {
          "output_type": "stream",
          "name": "stderr",
          "text": [
            "\r 53%|█████▎    | 160/300 [01:08<00:51,  2.69it/s]"
          ]
        },
        {
          "output_type": "stream",
          "name": "stdout",
          "text": [
            "no. of UEs covered (Reward):  440.0\n",
            "-----------------------------episode  161 -----------------------------\n"
          ]
        },
        {
          "output_type": "stream",
          "name": "stderr",
          "text": [
            "\r 54%|█████▎    | 161/300 [01:09<00:51,  2.68it/s]"
          ]
        },
        {
          "output_type": "stream",
          "name": "stdout",
          "text": [
            "no. of UEs covered (Reward):  410.0\n",
            "-----------------------------episode  162 -----------------------------\n"
          ]
        },
        {
          "output_type": "stream",
          "name": "stderr",
          "text": [
            "\r 54%|█████▍    | 162/300 [01:09<00:51,  2.68it/s]"
          ]
        },
        {
          "output_type": "stream",
          "name": "stdout",
          "text": [
            "no. of UEs covered (Reward):  450.0\n",
            "-----------------------------episode  163 -----------------------------\n"
          ]
        },
        {
          "output_type": "stream",
          "name": "stderr",
          "text": [
            "\r 54%|█████▍    | 163/300 [01:09<00:51,  2.67it/s]"
          ]
        },
        {
          "output_type": "stream",
          "name": "stdout",
          "text": [
            "no. of UEs covered (Reward):  430.0\n",
            "-----------------------------episode  164 -----------------------------\n"
          ]
        },
        {
          "output_type": "stream",
          "name": "stderr",
          "text": [
            "\r 55%|█████▍    | 164/300 [01:10<00:50,  2.69it/s]"
          ]
        },
        {
          "output_type": "stream",
          "name": "stdout",
          "text": [
            "no. of UEs covered (Reward):  470.0\n",
            "-----------------------------episode  165 -----------------------------\n"
          ]
        },
        {
          "output_type": "stream",
          "name": "stderr",
          "text": [
            "\r 55%|█████▌    | 165/300 [01:10<00:50,  2.67it/s]"
          ]
        },
        {
          "output_type": "stream",
          "name": "stdout",
          "text": [
            "no. of UEs covered (Reward):  280.0\n",
            "-----------------------------episode  166 -----------------------------\n"
          ]
        },
        {
          "output_type": "stream",
          "name": "stderr",
          "text": [
            "\r 55%|█████▌    | 166/300 [01:11<00:49,  2.70it/s]"
          ]
        },
        {
          "output_type": "stream",
          "name": "stdout",
          "text": [
            "no. of UEs covered (Reward):  170.0\n",
            "-----------------------------episode  167 -----------------------------\n"
          ]
        },
        {
          "output_type": "stream",
          "name": "stderr",
          "text": [
            "\r 56%|█████▌    | 167/300 [01:11<00:50,  2.65it/s]"
          ]
        },
        {
          "output_type": "stream",
          "name": "stdout",
          "text": [
            "no. of UEs covered (Reward):  310.0\n",
            "-----------------------------episode  168 -----------------------------\n"
          ]
        },
        {
          "output_type": "stream",
          "name": "stderr",
          "text": [
            "\r 56%|█████▌    | 168/300 [01:11<00:55,  2.38it/s]"
          ]
        },
        {
          "output_type": "stream",
          "name": "stdout",
          "text": [
            "no. of UEs covered (Reward):  270.0\n",
            "-----------------------------episode  169 -----------------------------\n"
          ]
        },
        {
          "output_type": "stream",
          "name": "stderr",
          "text": [
            "\r 56%|█████▋    | 169/300 [01:12<00:58,  2.22it/s]"
          ]
        },
        {
          "output_type": "stream",
          "name": "stdout",
          "text": [
            "no. of UEs covered (Reward):  300.0\n",
            "-----------------------------episode  170 -----------------------------\n"
          ]
        },
        {
          "output_type": "stream",
          "name": "stderr",
          "text": [
            "\r 57%|█████▋    | 170/300 [01:12<01:00,  2.14it/s]"
          ]
        },
        {
          "output_type": "stream",
          "name": "stdout",
          "text": [
            "no. of UEs covered (Reward):  520.0\n",
            "-----------------------------episode  171 -----------------------------\n"
          ]
        },
        {
          "output_type": "stream",
          "name": "stderr",
          "text": [
            "\r 57%|█████▋    | 171/300 [01:13<01:01,  2.09it/s]"
          ]
        },
        {
          "output_type": "stream",
          "name": "stdout",
          "text": [
            "no. of UEs covered (Reward):  360.0\n",
            "-----------------------------episode  172 -----------------------------\n"
          ]
        },
        {
          "output_type": "stream",
          "name": "stderr",
          "text": [
            "\r 57%|█████▋    | 172/300 [01:14<01:03,  2.03it/s]"
          ]
        },
        {
          "output_type": "stream",
          "name": "stdout",
          "text": [
            "no. of UEs covered (Reward):  410.0\n",
            "-----------------------------episode  173 -----------------------------\n"
          ]
        },
        {
          "output_type": "stream",
          "name": "stderr",
          "text": [
            "\r 58%|█████▊    | 173/300 [01:14<00:57,  2.22it/s]"
          ]
        },
        {
          "output_type": "stream",
          "name": "stdout",
          "text": [
            "no. of UEs covered (Reward):  300.0\n",
            "-----------------------------episode  174 -----------------------------\n"
          ]
        },
        {
          "output_type": "stream",
          "name": "stderr",
          "text": [
            "\r 58%|█████▊    | 174/300 [01:14<00:53,  2.37it/s]"
          ]
        },
        {
          "output_type": "stream",
          "name": "stdout",
          "text": [
            "no. of UEs covered (Reward):  160.0\n",
            "-----------------------------episode  175 -----------------------------\n"
          ]
        },
        {
          "output_type": "stream",
          "name": "stderr",
          "text": [
            "\r 58%|█████▊    | 175/300 [01:15<00:50,  2.47it/s]"
          ]
        },
        {
          "output_type": "stream",
          "name": "stdout",
          "text": [
            "no. of UEs covered (Reward):  220.0\n",
            "-----------------------------episode  176 -----------------------------\n"
          ]
        },
        {
          "output_type": "stream",
          "name": "stderr",
          "text": [
            "\r 59%|█████▊    | 176/300 [01:15<00:48,  2.57it/s]"
          ]
        },
        {
          "output_type": "stream",
          "name": "stdout",
          "text": [
            "no. of UEs covered (Reward):  40.0\n",
            "-----------------------------episode  177 -----------------------------\n"
          ]
        },
        {
          "output_type": "stream",
          "name": "stderr",
          "text": [
            "\r 59%|█████▉    | 177/300 [01:15<00:46,  2.63it/s]"
          ]
        },
        {
          "output_type": "stream",
          "name": "stdout",
          "text": [
            "no. of UEs covered (Reward):  530.0\n",
            "-----------------------------episode  178 -----------------------------\n"
          ]
        },
        {
          "output_type": "stream",
          "name": "stderr",
          "text": [
            "\r 59%|█████▉    | 178/300 [01:16<00:45,  2.65it/s]"
          ]
        },
        {
          "output_type": "stream",
          "name": "stdout",
          "text": [
            "no. of UEs covered (Reward):  370.0\n",
            "-----------------------------episode  179 -----------------------------\n"
          ]
        },
        {
          "output_type": "stream",
          "name": "stderr",
          "text": [
            "\r 60%|█████▉    | 179/300 [01:16<00:45,  2.66it/s]"
          ]
        },
        {
          "output_type": "stream",
          "name": "stdout",
          "text": [
            "no. of UEs covered (Reward):  60.0\n",
            "-----------------------------episode  180 -----------------------------\n"
          ]
        },
        {
          "output_type": "stream",
          "name": "stderr",
          "text": [
            "\r 60%|██████    | 180/300 [01:16<00:44,  2.70it/s]"
          ]
        },
        {
          "output_type": "stream",
          "name": "stdout",
          "text": [
            "no. of UEs covered (Reward):  120.0\n",
            "-----------------------------episode  181 -----------------------------\n"
          ]
        },
        {
          "output_type": "stream",
          "name": "stderr",
          "text": [
            "\r 60%|██████    | 181/300 [01:17<00:43,  2.73it/s]"
          ]
        },
        {
          "output_type": "stream",
          "name": "stdout",
          "text": [
            "no. of UEs covered (Reward):  520.0\n",
            "-----------------------------episode  182 -----------------------------\n"
          ]
        },
        {
          "output_type": "stream",
          "name": "stderr",
          "text": [
            "\r 61%|██████    | 182/300 [01:17<00:42,  2.76it/s]"
          ]
        },
        {
          "output_type": "stream",
          "name": "stdout",
          "text": [
            "no. of UEs covered (Reward):  530.0\n",
            "-----------------------------episode  183 -----------------------------\n"
          ]
        },
        {
          "output_type": "stream",
          "name": "stderr",
          "text": [
            "\r 61%|██████    | 183/300 [01:17<00:42,  2.75it/s]"
          ]
        },
        {
          "output_type": "stream",
          "name": "stdout",
          "text": [
            "no. of UEs covered (Reward):  480.0\n",
            "-----------------------------episode  184 -----------------------------\n"
          ]
        },
        {
          "output_type": "stream",
          "name": "stderr",
          "text": [
            "\r 61%|██████▏   | 184/300 [01:18<00:41,  2.78it/s]"
          ]
        },
        {
          "output_type": "stream",
          "name": "stdout",
          "text": [
            "no. of UEs covered (Reward):  200.0\n",
            "-----------------------------episode  185 -----------------------------\n"
          ]
        },
        {
          "output_type": "stream",
          "name": "stderr",
          "text": [
            "\r 62%|██████▏   | 185/300 [01:18<00:40,  2.82it/s]"
          ]
        },
        {
          "output_type": "stream",
          "name": "stdout",
          "text": [
            "no. of UEs covered (Reward):  300.0\n",
            "-----------------------------episode  186 -----------------------------\n"
          ]
        },
        {
          "output_type": "stream",
          "name": "stderr",
          "text": [
            "\r 62%|██████▏   | 186/300 [01:19<00:40,  2.81it/s]"
          ]
        },
        {
          "output_type": "stream",
          "name": "stdout",
          "text": [
            "no. of UEs covered (Reward):  300.0\n",
            "-----------------------------episode  187 -----------------------------\n"
          ]
        },
        {
          "output_type": "stream",
          "name": "stderr",
          "text": [
            "\r 62%|██████▏   | 187/300 [01:19<00:39,  2.85it/s]"
          ]
        },
        {
          "output_type": "stream",
          "name": "stdout",
          "text": [
            "no. of UEs covered (Reward):  520.0\n",
            "-----------------------------episode  188 -----------------------------\n"
          ]
        },
        {
          "output_type": "stream",
          "name": "stderr",
          "text": [
            "\r 63%|██████▎   | 188/300 [01:19<00:39,  2.87it/s]"
          ]
        },
        {
          "output_type": "stream",
          "name": "stdout",
          "text": [
            "no. of UEs covered (Reward):  460.0\n",
            "-----------------------------episode  189 -----------------------------\n"
          ]
        },
        {
          "output_type": "stream",
          "name": "stderr",
          "text": [
            "\r 63%|██████▎   | 189/300 [01:20<00:38,  2.87it/s]"
          ]
        },
        {
          "output_type": "stream",
          "name": "stdout",
          "text": [
            "no. of UEs covered (Reward):  420.0\n",
            "-----------------------------episode  190 -----------------------------\n"
          ]
        },
        {
          "output_type": "stream",
          "name": "stderr",
          "text": [
            "\r 63%|██████▎   | 190/300 [01:20<00:38,  2.84it/s]"
          ]
        },
        {
          "output_type": "stream",
          "name": "stdout",
          "text": [
            "no. of UEs covered (Reward):  530.0\n",
            "-----------------------------episode  191 -----------------------------\n"
          ]
        },
        {
          "output_type": "stream",
          "name": "stderr",
          "text": [
            "\r 64%|██████▎   | 191/300 [01:20<00:38,  2.85it/s]"
          ]
        },
        {
          "output_type": "stream",
          "name": "stdout",
          "text": [
            "no. of UEs covered (Reward):  460.0\n",
            "-----------------------------episode  192 -----------------------------\n"
          ]
        },
        {
          "output_type": "stream",
          "name": "stderr",
          "text": [
            "\r 64%|██████▍   | 192/300 [01:21<00:38,  2.80it/s]"
          ]
        },
        {
          "output_type": "stream",
          "name": "stdout",
          "text": [
            "no. of UEs covered (Reward):  530.0\n",
            "-----------------------------episode  193 -----------------------------\n"
          ]
        },
        {
          "output_type": "stream",
          "name": "stderr",
          "text": [
            "\r 64%|██████▍   | 193/300 [01:21<00:38,  2.75it/s]"
          ]
        },
        {
          "output_type": "stream",
          "name": "stdout",
          "text": [
            "no. of UEs covered (Reward):  280.0\n",
            "-----------------------------episode  194 -----------------------------\n"
          ]
        },
        {
          "output_type": "stream",
          "name": "stderr",
          "text": [
            "\r 65%|██████▍   | 194/300 [01:21<00:38,  2.74it/s]"
          ]
        },
        {
          "output_type": "stream",
          "name": "stdout",
          "text": [
            "no. of UEs covered (Reward):  430.0\n",
            "-----------------------------episode  195 -----------------------------\n"
          ]
        },
        {
          "output_type": "stream",
          "name": "stderr",
          "text": [
            "\r 65%|██████▌   | 195/300 [01:22<00:38,  2.71it/s]"
          ]
        },
        {
          "output_type": "stream",
          "name": "stdout",
          "text": [
            "no. of UEs covered (Reward):  500.0\n",
            "-----------------------------episode  196 -----------------------------\n"
          ]
        },
        {
          "output_type": "stream",
          "name": "stderr",
          "text": [
            "\r 65%|██████▌   | 196/300 [01:22<00:38,  2.68it/s]"
          ]
        },
        {
          "output_type": "stream",
          "name": "stdout",
          "text": [
            "no. of UEs covered (Reward):  730.0\n",
            "-----------------------------episode  197 -----------------------------\n"
          ]
        },
        {
          "output_type": "stream",
          "name": "stderr",
          "text": [
            "\r 66%|██████▌   | 197/300 [01:23<00:38,  2.69it/s]"
          ]
        },
        {
          "output_type": "stream",
          "name": "stdout",
          "text": [
            "no. of UEs covered (Reward):  470.0\n",
            "-----------------------------episode  198 -----------------------------\n"
          ]
        },
        {
          "output_type": "stream",
          "name": "stderr",
          "text": [
            "\r 66%|██████▌   | 198/300 [01:23<00:38,  2.67it/s]"
          ]
        },
        {
          "output_type": "stream",
          "name": "stdout",
          "text": [
            "no. of UEs covered (Reward):  120.0\n",
            "-----------------------------episode  199 -----------------------------\n"
          ]
        },
        {
          "output_type": "stream",
          "name": "stderr",
          "text": [
            "\r 66%|██████▋   | 199/300 [01:23<00:37,  2.68it/s]"
          ]
        },
        {
          "output_type": "stream",
          "name": "stdout",
          "text": [
            "no. of UEs covered (Reward):  290.0\n",
            "-----------------------------episode  200 -----------------------------\n"
          ]
        },
        {
          "output_type": "stream",
          "name": "stderr",
          "text": [
            "\r 67%|██████▋   | 200/300 [01:24<00:39,  2.52it/s]"
          ]
        },
        {
          "output_type": "stream",
          "name": "stdout",
          "text": [
            "no. of UEs covered (Reward):  250.0\n",
            "-----------------------------episode  201 -----------------------------\n"
          ]
        },
        {
          "output_type": "stream",
          "name": "stderr",
          "text": [
            "\r 67%|██████▋   | 201/300 [01:24<00:44,  2.25it/s]"
          ]
        },
        {
          "output_type": "stream",
          "name": "stdout",
          "text": [
            "no. of UEs covered (Reward):  290.0\n",
            "-----------------------------episode  202 -----------------------------\n"
          ]
        },
        {
          "output_type": "stream",
          "name": "stderr",
          "text": [
            "\r 67%|██████▋   | 202/300 [01:25<00:46,  2.09it/s]"
          ]
        },
        {
          "output_type": "stream",
          "name": "stdout",
          "text": [
            "no. of UEs covered (Reward):  370.0\n",
            "-----------------------------episode  203 -----------------------------\n"
          ]
        },
        {
          "output_type": "stream",
          "name": "stderr",
          "text": [
            "\r 68%|██████▊   | 203/300 [01:25<00:47,  2.04it/s]"
          ]
        },
        {
          "output_type": "stream",
          "name": "stdout",
          "text": [
            "no. of UEs covered (Reward):  690.0\n",
            "-----------------------------episode  204 -----------------------------\n"
          ]
        },
        {
          "output_type": "stream",
          "name": "stderr",
          "text": [
            "\r 68%|██████▊   | 204/300 [01:26<00:49,  1.95it/s]"
          ]
        },
        {
          "output_type": "stream",
          "name": "stdout",
          "text": [
            "no. of UEs covered (Reward):  570.0\n",
            "-----------------------------episode  205 -----------------------------\n"
          ]
        },
        {
          "output_type": "stream",
          "name": "stderr",
          "text": [
            "\r 68%|██████▊   | 205/300 [01:26<00:50,  1.88it/s]"
          ]
        },
        {
          "output_type": "stream",
          "name": "stdout",
          "text": [
            "no. of UEs covered (Reward):  30.0\n",
            "-----------------------------episode  206 -----------------------------\n"
          ]
        },
        {
          "output_type": "stream",
          "name": "stderr",
          "text": [
            "\r 69%|██████▊   | 206/300 [01:27<00:45,  2.07it/s]"
          ]
        },
        {
          "output_type": "stream",
          "name": "stdout",
          "text": [
            "no. of UEs covered (Reward):  550.0\n",
            "-----------------------------episode  207 -----------------------------\n"
          ]
        },
        {
          "output_type": "stream",
          "name": "stderr",
          "text": [
            "\r 69%|██████▉   | 207/300 [01:27<00:41,  2.24it/s]"
          ]
        },
        {
          "output_type": "stream",
          "name": "stdout",
          "text": [
            "no. of UEs covered (Reward):  360.0\n",
            "-----------------------------episode  208 -----------------------------\n"
          ]
        },
        {
          "output_type": "stream",
          "name": "stderr",
          "text": [
            "\r 69%|██████▉   | 208/300 [01:28<00:38,  2.37it/s]"
          ]
        },
        {
          "output_type": "stream",
          "name": "stdout",
          "text": [
            "no. of UEs covered (Reward):  610.0\n",
            "-----------------------------episode  209 -----------------------------\n"
          ]
        },
        {
          "output_type": "stream",
          "name": "stderr",
          "text": [
            "\r 70%|██████▉   | 209/300 [01:28<00:36,  2.49it/s]"
          ]
        },
        {
          "output_type": "stream",
          "name": "stdout",
          "text": [
            "no. of UEs covered (Reward):  360.0\n",
            "-----------------------------episode  210 -----------------------------\n"
          ]
        },
        {
          "output_type": "stream",
          "name": "stderr",
          "text": [
            "\r 70%|███████   | 210/300 [01:28<00:35,  2.56it/s]"
          ]
        },
        {
          "output_type": "stream",
          "name": "stdout",
          "text": [
            "no. of UEs covered (Reward):  460.0\n",
            "-----------------------------episode  211 -----------------------------\n"
          ]
        },
        {
          "output_type": "stream",
          "name": "stderr",
          "text": [
            "\r 70%|███████   | 211/300 [01:29<00:33,  2.62it/s]"
          ]
        },
        {
          "output_type": "stream",
          "name": "stdout",
          "text": [
            "no. of UEs covered (Reward):  320.0\n",
            "-----------------------------episode  212 -----------------------------\n"
          ]
        },
        {
          "output_type": "stream",
          "name": "stderr",
          "text": [
            "\r 71%|███████   | 212/300 [01:29<00:32,  2.69it/s]"
          ]
        },
        {
          "output_type": "stream",
          "name": "stdout",
          "text": [
            "no. of UEs covered (Reward):  410.0\n",
            "-----------------------------episode  213 -----------------------------\n"
          ]
        },
        {
          "output_type": "stream",
          "name": "stderr",
          "text": [
            "\r 71%|███████   | 213/300 [01:29<00:31,  2.74it/s]"
          ]
        },
        {
          "output_type": "stream",
          "name": "stdout",
          "text": [
            "no. of UEs covered (Reward):  250.0\n",
            "-----------------------------episode  214 -----------------------------\n"
          ]
        },
        {
          "output_type": "stream",
          "name": "stderr",
          "text": [
            "\r 71%|███████▏  | 214/300 [01:30<00:31,  2.74it/s]"
          ]
        },
        {
          "output_type": "stream",
          "name": "stdout",
          "text": [
            "no. of UEs covered (Reward):  230.0\n",
            "-----------------------------episode  215 -----------------------------\n"
          ]
        },
        {
          "output_type": "stream",
          "name": "stderr",
          "text": [
            "\r 72%|███████▏  | 215/300 [01:30<00:31,  2.66it/s]"
          ]
        },
        {
          "output_type": "stream",
          "name": "stdout",
          "text": [
            "no. of UEs covered (Reward):  470.0\n",
            "-----------------------------episode  216 -----------------------------\n"
          ]
        },
        {
          "output_type": "stream",
          "name": "stderr",
          "text": [
            "\r 72%|███████▏  | 216/300 [01:30<00:31,  2.69it/s]"
          ]
        },
        {
          "output_type": "stream",
          "name": "stdout",
          "text": [
            "no. of UEs covered (Reward):  160.0\n",
            "-----------------------------episode  217 -----------------------------\n"
          ]
        },
        {
          "output_type": "stream",
          "name": "stderr",
          "text": [
            "\r 72%|███████▏  | 217/300 [01:31<00:30,  2.69it/s]"
          ]
        },
        {
          "output_type": "stream",
          "name": "stdout",
          "text": [
            "no. of UEs covered (Reward):  280.0\n",
            "-----------------------------episode  218 -----------------------------\n"
          ]
        },
        {
          "output_type": "stream",
          "name": "stderr",
          "text": [
            "\r 73%|███████▎  | 218/300 [01:31<00:30,  2.71it/s]"
          ]
        },
        {
          "output_type": "stream",
          "name": "stdout",
          "text": [
            "no. of UEs covered (Reward):  200.0\n",
            "-----------------------------episode  219 -----------------------------\n"
          ]
        },
        {
          "output_type": "stream",
          "name": "stderr",
          "text": [
            "\r 73%|███████▎  | 219/300 [01:32<00:29,  2.74it/s]"
          ]
        },
        {
          "output_type": "stream",
          "name": "stdout",
          "text": [
            "no. of UEs covered (Reward):  240.0\n",
            "-----------------------------episode  220 -----------------------------\n"
          ]
        },
        {
          "output_type": "stream",
          "name": "stderr",
          "text": [
            "\r 73%|███████▎  | 220/300 [01:32<00:29,  2.74it/s]"
          ]
        },
        {
          "output_type": "stream",
          "name": "stdout",
          "text": [
            "no. of UEs covered (Reward):  510.0\n",
            "-----------------------------episode  221 -----------------------------\n"
          ]
        },
        {
          "output_type": "stream",
          "name": "stderr",
          "text": [
            "\r 74%|███████▎  | 221/300 [01:32<00:28,  2.75it/s]"
          ]
        },
        {
          "output_type": "stream",
          "name": "stdout",
          "text": [
            "no. of UEs covered (Reward):  300.0\n",
            "-----------------------------episode  222 -----------------------------\n"
          ]
        },
        {
          "output_type": "stream",
          "name": "stderr",
          "text": [
            "\r 74%|███████▍  | 222/300 [01:33<00:28,  2.72it/s]"
          ]
        },
        {
          "output_type": "stream",
          "name": "stdout",
          "text": [
            "no. of UEs covered (Reward):  310.0\n",
            "-----------------------------episode  223 -----------------------------\n"
          ]
        },
        {
          "output_type": "stream",
          "name": "stderr",
          "text": [
            "\r 74%|███████▍  | 223/300 [01:33<00:28,  2.75it/s]"
          ]
        },
        {
          "output_type": "stream",
          "name": "stdout",
          "text": [
            "no. of UEs covered (Reward):  290.0\n",
            "-----------------------------episode  224 -----------------------------\n"
          ]
        },
        {
          "output_type": "stream",
          "name": "stderr",
          "text": [
            "\r 75%|███████▍  | 224/300 [01:33<00:27,  2.72it/s]"
          ]
        },
        {
          "output_type": "stream",
          "name": "stdout",
          "text": [
            "no. of UEs covered (Reward):  250.0\n",
            "-----------------------------episode  225 -----------------------------\n"
          ]
        },
        {
          "output_type": "stream",
          "name": "stderr",
          "text": [
            "\r 75%|███████▌  | 225/300 [01:34<00:27,  2.72it/s]"
          ]
        },
        {
          "output_type": "stream",
          "name": "stdout",
          "text": [
            "no. of UEs covered (Reward):  50.0\n",
            "-----------------------------episode  226 -----------------------------\n"
          ]
        },
        {
          "output_type": "stream",
          "name": "stderr",
          "text": [
            "\r 75%|███████▌  | 226/300 [01:34<00:27,  2.73it/s]"
          ]
        },
        {
          "output_type": "stream",
          "name": "stdout",
          "text": [
            "no. of UEs covered (Reward):  540.0\n",
            "-----------------------------episode  227 -----------------------------\n"
          ]
        },
        {
          "output_type": "stream",
          "name": "stderr",
          "text": [
            "\r 76%|███████▌  | 227/300 [01:35<00:26,  2.73it/s]"
          ]
        },
        {
          "output_type": "stream",
          "name": "stdout",
          "text": [
            "no. of UEs covered (Reward):  100.0\n",
            "-----------------------------episode  228 -----------------------------\n"
          ]
        },
        {
          "output_type": "stream",
          "name": "stderr",
          "text": [
            "\r 76%|███████▌  | 228/300 [01:35<00:26,  2.74it/s]"
          ]
        },
        {
          "output_type": "stream",
          "name": "stdout",
          "text": [
            "no. of UEs covered (Reward):  620.0\n",
            "-----------------------------episode  229 -----------------------------\n"
          ]
        },
        {
          "output_type": "stream",
          "name": "stderr",
          "text": [
            "\r 76%|███████▋  | 229/300 [01:35<00:26,  2.70it/s]"
          ]
        },
        {
          "output_type": "stream",
          "name": "stdout",
          "text": [
            "no. of UEs covered (Reward):  280.0\n",
            "-----------------------------episode  230 -----------------------------\n"
          ]
        },
        {
          "output_type": "stream",
          "name": "stderr",
          "text": [
            "\r 77%|███████▋  | 230/300 [01:36<00:25,  2.71it/s]"
          ]
        },
        {
          "output_type": "stream",
          "name": "stdout",
          "text": [
            "no. of UEs covered (Reward):  930.0\n",
            "-----------------------------episode  231 -----------------------------\n"
          ]
        },
        {
          "output_type": "stream",
          "name": "stderr",
          "text": [
            "\r 77%|███████▋  | 231/300 [01:36<00:25,  2.70it/s]"
          ]
        },
        {
          "output_type": "stream",
          "name": "stdout",
          "text": [
            "no. of UEs covered (Reward):  300.0\n",
            "-----------------------------episode  232 -----------------------------\n"
          ]
        },
        {
          "output_type": "stream",
          "name": "stderr",
          "text": [
            "\r 77%|███████▋  | 232/300 [01:36<00:26,  2.54it/s]"
          ]
        },
        {
          "output_type": "stream",
          "name": "stdout",
          "text": [
            "no. of UEs covered (Reward):  280.0\n",
            "-----------------------------episode  233 -----------------------------\n"
          ]
        },
        {
          "output_type": "stream",
          "name": "stderr",
          "text": [
            "\r 78%|███████▊  | 233/300 [01:37<00:28,  2.34it/s]"
          ]
        },
        {
          "output_type": "stream",
          "name": "stdout",
          "text": [
            "no. of UEs covered (Reward):  290.0\n",
            "-----------------------------episode  234 -----------------------------\n"
          ]
        },
        {
          "output_type": "stream",
          "name": "stderr",
          "text": [
            "\r 78%|███████▊  | 234/300 [01:37<00:29,  2.21it/s]"
          ]
        },
        {
          "output_type": "stream",
          "name": "stdout",
          "text": [
            "no. of UEs covered (Reward):  460.0\n",
            "-----------------------------episode  235 -----------------------------\n"
          ]
        },
        {
          "output_type": "stream",
          "name": "stderr",
          "text": [
            "\r 78%|███████▊  | 235/300 [01:38<00:30,  2.12it/s]"
          ]
        },
        {
          "output_type": "stream",
          "name": "stdout",
          "text": [
            "no. of UEs covered (Reward):  370.0\n",
            "-----------------------------episode  236 -----------------------------\n"
          ]
        },
        {
          "output_type": "stream",
          "name": "stderr",
          "text": [
            "\r 79%|███████▊  | 236/300 [01:39<00:31,  2.03it/s]"
          ]
        },
        {
          "output_type": "stream",
          "name": "stdout",
          "text": [
            "no. of UEs covered (Reward):  290.0\n",
            "-----------------------------episode  237 -----------------------------\n"
          ]
        },
        {
          "output_type": "stream",
          "name": "stderr",
          "text": [
            "\r 79%|███████▉  | 237/300 [01:39<00:30,  2.09it/s]"
          ]
        },
        {
          "output_type": "stream",
          "name": "stdout",
          "text": [
            "no. of UEs covered (Reward):  120.0\n",
            "-----------------------------episode  238 -----------------------------\n"
          ]
        },
        {
          "output_type": "stream",
          "name": "stderr",
          "text": [
            "\r 79%|███████▉  | 238/300 [01:40<00:32,  1.93it/s]"
          ]
        },
        {
          "output_type": "stream",
          "name": "stdout",
          "text": [
            "no. of UEs covered (Reward):  270.0\n",
            "-----------------------------episode  239 -----------------------------\n"
          ]
        },
        {
          "output_type": "stream",
          "name": "stderr",
          "text": [
            "\r 80%|███████▉  | 239/300 [01:40<00:28,  2.11it/s]"
          ]
        },
        {
          "output_type": "stream",
          "name": "stdout",
          "text": [
            "no. of UEs covered (Reward):  60.0\n",
            "-----------------------------episode  240 -----------------------------\n"
          ]
        },
        {
          "output_type": "stream",
          "name": "stderr",
          "text": [
            "\r 80%|████████  | 240/300 [01:41<00:31,  1.91it/s]"
          ]
        },
        {
          "output_type": "stream",
          "name": "stdout",
          "text": [
            "no. of UEs covered (Reward):  240.0\n",
            "-----------------------------episode  241 -----------------------------\n"
          ]
        },
        {
          "output_type": "stream",
          "name": "stderr",
          "text": [
            "\r 80%|████████  | 241/300 [01:41<00:31,  1.87it/s]"
          ]
        },
        {
          "output_type": "stream",
          "name": "stdout",
          "text": [
            "no. of UEs covered (Reward):  450.0\n",
            "-----------------------------episode  242 -----------------------------\n"
          ]
        },
        {
          "output_type": "stream",
          "name": "stderr",
          "text": [
            "\r 81%|████████  | 242/300 [01:42<00:28,  2.01it/s]"
          ]
        },
        {
          "output_type": "stream",
          "name": "stdout",
          "text": [
            "no. of UEs covered (Reward):  290.0\n",
            "-----------------------------episode  243 -----------------------------\n"
          ]
        },
        {
          "output_type": "stream",
          "name": "stderr",
          "text": [
            "\r 81%|████████  | 243/300 [01:42<00:26,  2.18it/s]"
          ]
        },
        {
          "output_type": "stream",
          "name": "stdout",
          "text": [
            "no. of UEs covered (Reward):  40.0\n",
            "-----------------------------episode  244 -----------------------------\n"
          ]
        },
        {
          "output_type": "stream",
          "name": "stderr",
          "text": [
            "\r 81%|████████▏ | 244/300 [01:42<00:24,  2.31it/s]"
          ]
        },
        {
          "output_type": "stream",
          "name": "stdout",
          "text": [
            "no. of UEs covered (Reward):  280.0\n",
            "-----------------------------episode  245 -----------------------------\n"
          ]
        },
        {
          "output_type": "stream",
          "name": "stderr",
          "text": [
            "\r 82%|████████▏ | 245/300 [01:43<00:22,  2.43it/s]"
          ]
        },
        {
          "output_type": "stream",
          "name": "stdout",
          "text": [
            "no. of UEs covered (Reward):  220.0\n",
            "-----------------------------episode  246 -----------------------------\n"
          ]
        },
        {
          "output_type": "stream",
          "name": "stderr",
          "text": [
            "\r 82%|████████▏ | 246/300 [01:43<00:21,  2.51it/s]"
          ]
        },
        {
          "output_type": "stream",
          "name": "stdout",
          "text": [
            "no. of UEs covered (Reward):  440.0\n",
            "-----------------------------episode  247 -----------------------------\n"
          ]
        },
        {
          "output_type": "stream",
          "name": "stderr",
          "text": [
            "\r 82%|████████▏ | 247/300 [01:43<00:20,  2.58it/s]"
          ]
        },
        {
          "output_type": "stream",
          "name": "stdout",
          "text": [
            "no. of UEs covered (Reward):  260.0\n",
            "-----------------------------episode  248 -----------------------------\n"
          ]
        },
        {
          "output_type": "stream",
          "name": "stderr",
          "text": [
            "\r 83%|████████▎ | 248/300 [01:44<00:19,  2.62it/s]"
          ]
        },
        {
          "output_type": "stream",
          "name": "stdout",
          "text": [
            "no. of UEs covered (Reward):  750.0\n",
            "-----------------------------episode  249 -----------------------------\n"
          ]
        },
        {
          "output_type": "stream",
          "name": "stderr",
          "text": [
            "\r 83%|████████▎ | 249/300 [01:44<00:19,  2.63it/s]"
          ]
        },
        {
          "output_type": "stream",
          "name": "stdout",
          "text": [
            "no. of UEs covered (Reward):  320.0\n",
            "-----------------------------episode  250 -----------------------------\n"
          ]
        },
        {
          "output_type": "stream",
          "name": "stderr",
          "text": [
            "\r 83%|████████▎ | 250/300 [01:45<00:18,  2.66it/s]"
          ]
        },
        {
          "output_type": "stream",
          "name": "stdout",
          "text": [
            "no. of UEs covered (Reward):  370.0\n",
            "-----------------------------episode  251 -----------------------------\n"
          ]
        },
        {
          "output_type": "stream",
          "name": "stderr",
          "text": [
            "\r 84%|████████▎ | 251/300 [01:45<00:18,  2.69it/s]"
          ]
        },
        {
          "output_type": "stream",
          "name": "stdout",
          "text": [
            "no. of UEs covered (Reward):  300.0\n",
            "-----------------------------episode  252 -----------------------------\n"
          ]
        },
        {
          "output_type": "stream",
          "name": "stderr",
          "text": [
            "\r 84%|████████▍ | 252/300 [01:45<00:17,  2.67it/s]"
          ]
        },
        {
          "output_type": "stream",
          "name": "stdout",
          "text": [
            "no. of UEs covered (Reward):  110.0\n",
            "-----------------------------episode  253 -----------------------------\n"
          ]
        },
        {
          "output_type": "stream",
          "name": "stderr",
          "text": [
            "\r 84%|████████▍ | 253/300 [01:46<00:17,  2.70it/s]"
          ]
        },
        {
          "output_type": "stream",
          "name": "stdout",
          "text": [
            "no. of UEs covered (Reward):  310.0\n",
            "-----------------------------episode  254 -----------------------------\n"
          ]
        },
        {
          "output_type": "stream",
          "name": "stderr",
          "text": [
            "\r 85%|████████▍ | 254/300 [01:46<00:17,  2.68it/s]"
          ]
        },
        {
          "output_type": "stream",
          "name": "stdout",
          "text": [
            "no. of UEs covered (Reward):  300.0\n",
            "-----------------------------episode  255 -----------------------------\n"
          ]
        },
        {
          "output_type": "stream",
          "name": "stderr",
          "text": [
            "\r 85%|████████▌ | 255/300 [01:46<00:16,  2.69it/s]"
          ]
        },
        {
          "output_type": "stream",
          "name": "stdout",
          "text": [
            "no. of UEs covered (Reward):  320.0\n",
            "-----------------------------episode  256 -----------------------------\n"
          ]
        },
        {
          "output_type": "stream",
          "name": "stderr",
          "text": [
            "\r 85%|████████▌ | 256/300 [01:47<00:16,  2.71it/s]"
          ]
        },
        {
          "output_type": "stream",
          "name": "stdout",
          "text": [
            "no. of UEs covered (Reward):  540.0\n",
            "-----------------------------episode  257 -----------------------------\n"
          ]
        },
        {
          "output_type": "stream",
          "name": "stderr",
          "text": [
            "\r 86%|████████▌ | 257/300 [01:47<00:16,  2.67it/s]"
          ]
        },
        {
          "output_type": "stream",
          "name": "stdout",
          "text": [
            "no. of UEs covered (Reward):  220.0\n",
            "-----------------------------episode  258 -----------------------------\n"
          ]
        },
        {
          "output_type": "stream",
          "name": "stderr",
          "text": [
            "\r 86%|████████▌ | 258/300 [01:47<00:15,  2.68it/s]"
          ]
        },
        {
          "output_type": "stream",
          "name": "stdout",
          "text": [
            "no. of UEs covered (Reward):  160.0\n",
            "-----------------------------episode  259 -----------------------------\n"
          ]
        },
        {
          "output_type": "stream",
          "name": "stderr",
          "text": [
            "\r 86%|████████▋ | 259/300 [01:48<00:15,  2.71it/s]"
          ]
        },
        {
          "output_type": "stream",
          "name": "stdout",
          "text": [
            "no. of UEs covered (Reward):  420.0\n",
            "-----------------------------episode  260 -----------------------------\n"
          ]
        },
        {
          "output_type": "stream",
          "name": "stderr",
          "text": [
            "\r 87%|████████▋ | 260/300 [01:48<00:14,  2.67it/s]"
          ]
        },
        {
          "output_type": "stream",
          "name": "stdout",
          "text": [
            "no. of UEs covered (Reward):  290.0\n",
            "-----------------------------episode  261 -----------------------------\n"
          ]
        },
        {
          "output_type": "stream",
          "name": "stderr",
          "text": [
            "\r 87%|████████▋ | 261/300 [01:49<00:14,  2.68it/s]"
          ]
        },
        {
          "output_type": "stream",
          "name": "stdout",
          "text": [
            "no. of UEs covered (Reward):  560.0\n",
            "-----------------------------episode  262 -----------------------------\n"
          ]
        },
        {
          "output_type": "stream",
          "name": "stderr",
          "text": [
            "\r 87%|████████▋ | 262/300 [01:49<00:15,  2.39it/s]"
          ]
        },
        {
          "output_type": "stream",
          "name": "stdout",
          "text": [
            "no. of UEs covered (Reward):  230.0\n",
            "-----------------------------episode  263 -----------------------------\n"
          ]
        },
        {
          "output_type": "stream",
          "name": "stderr",
          "text": [
            "\r 88%|████████▊ | 263/300 [01:50<00:17,  2.11it/s]"
          ]
        },
        {
          "output_type": "stream",
          "name": "stdout",
          "text": [
            "no. of UEs covered (Reward):  520.0\n",
            "-----------------------------episode  264 -----------------------------\n"
          ]
        },
        {
          "output_type": "stream",
          "name": "stderr",
          "text": [
            "\r 88%|████████▊ | 264/300 [01:50<00:19,  1.89it/s]"
          ]
        },
        {
          "output_type": "stream",
          "name": "stdout",
          "text": [
            "no. of UEs covered (Reward):  590.0\n",
            "-----------------------------episode  265 -----------------------------\n"
          ]
        },
        {
          "output_type": "stream",
          "name": "stderr",
          "text": [
            "\r 88%|████████▊ | 265/300 [01:51<00:20,  1.74it/s]"
          ]
        },
        {
          "output_type": "stream",
          "name": "stdout",
          "text": [
            "no. of UEs covered (Reward):  40.0\n",
            "-----------------------------episode  266 -----------------------------\n"
          ]
        },
        {
          "output_type": "stream",
          "name": "stderr",
          "text": [
            "\r 89%|████████▊ | 266/300 [01:52<00:20,  1.69it/s]"
          ]
        },
        {
          "output_type": "stream",
          "name": "stdout",
          "text": [
            "no. of UEs covered (Reward):  220.0\n",
            "-----------------------------episode  267 -----------------------------\n"
          ]
        },
        {
          "output_type": "stream",
          "name": "stderr",
          "text": [
            "\r 89%|████████▉ | 267/300 [01:52<00:19,  1.70it/s]"
          ]
        },
        {
          "output_type": "stream",
          "name": "stdout",
          "text": [
            "no. of UEs covered (Reward):  530.0\n",
            "-----------------------------episode  268 -----------------------------\n"
          ]
        },
        {
          "output_type": "stream",
          "name": "stderr",
          "text": [
            "\r 89%|████████▉ | 268/300 [01:53<00:18,  1.72it/s]"
          ]
        },
        {
          "output_type": "stream",
          "name": "stdout",
          "text": [
            "no. of UEs covered (Reward):  230.0\n",
            "-----------------------------episode  269 -----------------------------\n"
          ]
        },
        {
          "output_type": "stream",
          "name": "stderr",
          "text": [
            "\r 90%|████████▉ | 269/300 [01:53<00:17,  1.74it/s]"
          ]
        },
        {
          "output_type": "stream",
          "name": "stdout",
          "text": [
            "no. of UEs covered (Reward):  380.0\n",
            "-----------------------------episode  270 -----------------------------\n"
          ]
        },
        {
          "output_type": "stream",
          "name": "stderr",
          "text": [
            "\r 90%|█████████ | 270/300 [01:54<00:15,  1.95it/s]"
          ]
        },
        {
          "output_type": "stream",
          "name": "stdout",
          "text": [
            "no. of UEs covered (Reward):  310.0\n",
            "-----------------------------episode  271 -----------------------------\n"
          ]
        },
        {
          "output_type": "stream",
          "name": "stderr",
          "text": [
            "\r 90%|█████████ | 271/300 [01:54<00:13,  2.13it/s]"
          ]
        },
        {
          "output_type": "stream",
          "name": "stdout",
          "text": [
            "no. of UEs covered (Reward):  240.0\n",
            "-----------------------------episode  272 -----------------------------\n"
          ]
        },
        {
          "output_type": "stream",
          "name": "stderr",
          "text": [
            "\r 91%|█████████ | 272/300 [01:55<00:12,  2.27it/s]"
          ]
        },
        {
          "output_type": "stream",
          "name": "stdout",
          "text": [
            "no. of UEs covered (Reward):  40.0\n",
            "-----------------------------episode  273 -----------------------------\n"
          ]
        },
        {
          "output_type": "stream",
          "name": "stderr",
          "text": [
            "\r 91%|█████████ | 273/300 [01:55<00:11,  2.39it/s]"
          ]
        },
        {
          "output_type": "stream",
          "name": "stdout",
          "text": [
            "no. of UEs covered (Reward):  270.0\n",
            "-----------------------------episode  274 -----------------------------\n"
          ]
        },
        {
          "output_type": "stream",
          "name": "stderr",
          "text": [
            "\r 91%|█████████▏| 274/300 [01:55<00:10,  2.50it/s]"
          ]
        },
        {
          "output_type": "stream",
          "name": "stdout",
          "text": [
            "no. of UEs covered (Reward):  450.0\n",
            "-----------------------------episode  275 -----------------------------\n"
          ]
        },
        {
          "output_type": "stream",
          "name": "stderr",
          "text": [
            "\r 92%|█████████▏| 275/300 [01:56<00:09,  2.57it/s]"
          ]
        },
        {
          "output_type": "stream",
          "name": "stdout",
          "text": [
            "no. of UEs covered (Reward):  310.0\n",
            "-----------------------------episode  276 -----------------------------\n"
          ]
        },
        {
          "output_type": "stream",
          "name": "stderr",
          "text": [
            "\r 92%|█████████▏| 276/300 [01:56<00:09,  2.58it/s]"
          ]
        },
        {
          "output_type": "stream",
          "name": "stdout",
          "text": [
            "no. of UEs covered (Reward):  290.0\n",
            "-----------------------------episode  277 -----------------------------\n"
          ]
        },
        {
          "output_type": "stream",
          "name": "stderr",
          "text": [
            "\r 92%|█████████▏| 277/300 [01:56<00:08,  2.66it/s]"
          ]
        },
        {
          "output_type": "stream",
          "name": "stdout",
          "text": [
            "no. of UEs covered (Reward):  760.0\n",
            "-----------------------------episode  278 -----------------------------\n"
          ]
        },
        {
          "output_type": "stream",
          "name": "stderr",
          "text": [
            "\r 93%|█████████▎| 278/300 [01:57<00:08,  2.69it/s]"
          ]
        },
        {
          "output_type": "stream",
          "name": "stdout",
          "text": [
            "no. of UEs covered (Reward):  310.0\n",
            "-----------------------------episode  279 -----------------------------\n"
          ]
        },
        {
          "output_type": "stream",
          "name": "stderr",
          "text": [
            "\r 93%|█████████▎| 279/300 [01:57<00:08,  2.62it/s]"
          ]
        },
        {
          "output_type": "stream",
          "name": "stdout",
          "text": [
            "no. of UEs covered (Reward):  450.0\n",
            "-----------------------------episode  280 -----------------------------\n"
          ]
        },
        {
          "output_type": "stream",
          "name": "stderr",
          "text": [
            "\r 93%|█████████▎| 280/300 [01:57<00:07,  2.61it/s]"
          ]
        },
        {
          "output_type": "stream",
          "name": "stdout",
          "text": [
            "no. of UEs covered (Reward):  260.0\n",
            "-----------------------------episode  281 -----------------------------\n"
          ]
        },
        {
          "output_type": "stream",
          "name": "stderr",
          "text": [
            "\r 94%|█████████▎| 281/300 [01:58<00:07,  2.61it/s]"
          ]
        },
        {
          "output_type": "stream",
          "name": "stdout",
          "text": [
            "no. of UEs covered (Reward):  370.0\n",
            "-----------------------------episode  282 -----------------------------\n"
          ]
        },
        {
          "output_type": "stream",
          "name": "stderr",
          "text": [
            "\r 94%|█████████▍| 282/300 [01:58<00:06,  2.63it/s]"
          ]
        },
        {
          "output_type": "stream",
          "name": "stdout",
          "text": [
            "no. of UEs covered (Reward):  280.0\n",
            "-----------------------------episode  283 -----------------------------\n"
          ]
        },
        {
          "output_type": "stream",
          "name": "stderr",
          "text": [
            "\r 94%|█████████▍| 283/300 [01:59<00:06,  2.63it/s]"
          ]
        },
        {
          "output_type": "stream",
          "name": "stdout",
          "text": [
            "no. of UEs covered (Reward):  540.0\n",
            "-----------------------------episode  284 -----------------------------\n"
          ]
        },
        {
          "output_type": "stream",
          "name": "stderr",
          "text": [
            "\r 95%|█████████▍| 284/300 [01:59<00:06,  2.66it/s]"
          ]
        },
        {
          "output_type": "stream",
          "name": "stdout",
          "text": [
            "no. of UEs covered (Reward):  240.0\n",
            "-----------------------------episode  285 -----------------------------\n"
          ]
        },
        {
          "output_type": "stream",
          "name": "stderr",
          "text": [
            "\r 95%|█████████▌| 285/300 [01:59<00:05,  2.69it/s]"
          ]
        },
        {
          "output_type": "stream",
          "name": "stdout",
          "text": [
            "no. of UEs covered (Reward):  410.0\n",
            "-----------------------------episode  286 -----------------------------\n"
          ]
        },
        {
          "output_type": "stream",
          "name": "stderr",
          "text": [
            "\r 95%|█████████▌| 286/300 [02:00<00:05,  2.70it/s]"
          ]
        },
        {
          "output_type": "stream",
          "name": "stdout",
          "text": [
            "no. of UEs covered (Reward):  250.0\n",
            "-----------------------------episode  287 -----------------------------\n"
          ]
        },
        {
          "output_type": "stream",
          "name": "stderr",
          "text": [
            "\r 96%|█████████▌| 287/300 [02:00<00:04,  2.73it/s]"
          ]
        },
        {
          "output_type": "stream",
          "name": "stdout",
          "text": [
            "no. of UEs covered (Reward):  280.0\n",
            "-----------------------------episode  288 -----------------------------\n"
          ]
        },
        {
          "output_type": "stream",
          "name": "stderr",
          "text": [
            "\r 96%|█████████▌| 288/300 [02:00<00:04,  2.70it/s]"
          ]
        },
        {
          "output_type": "stream",
          "name": "stdout",
          "text": [
            "no. of UEs covered (Reward):  400.0\n",
            "-----------------------------episode  289 -----------------------------\n"
          ]
        },
        {
          "output_type": "stream",
          "name": "stderr",
          "text": [
            "\r 96%|█████████▋| 289/300 [02:01<00:04,  2.67it/s]"
          ]
        },
        {
          "output_type": "stream",
          "name": "stdout",
          "text": [
            "no. of UEs covered (Reward):  300.0\n",
            "-----------------------------episode  290 -----------------------------\n"
          ]
        },
        {
          "output_type": "stream",
          "name": "stderr",
          "text": [
            "\r 97%|█████████▋| 290/300 [02:01<00:03,  2.64it/s]"
          ]
        },
        {
          "output_type": "stream",
          "name": "stdout",
          "text": [
            "no. of UEs covered (Reward):  310.0\n",
            "-----------------------------episode  291 -----------------------------\n"
          ]
        },
        {
          "output_type": "stream",
          "name": "stderr",
          "text": [
            "\r 97%|█████████▋| 291/300 [02:02<00:03,  2.65it/s]"
          ]
        },
        {
          "output_type": "stream",
          "name": "stdout",
          "text": [
            "no. of UEs covered (Reward):  230.0\n",
            "-----------------------------episode  292 -----------------------------\n"
          ]
        },
        {
          "output_type": "stream",
          "name": "stderr",
          "text": [
            "\r 97%|█████████▋| 292/300 [02:02<00:03,  2.66it/s]"
          ]
        },
        {
          "output_type": "stream",
          "name": "stdout",
          "text": [
            "no. of UEs covered (Reward):  430.0\n",
            "-----------------------------episode  293 -----------------------------\n"
          ]
        },
        {
          "output_type": "stream",
          "name": "stderr",
          "text": [
            "\r 98%|█████████▊| 293/300 [02:02<00:02,  2.70it/s]"
          ]
        },
        {
          "output_type": "stream",
          "name": "stdout",
          "text": [
            "no. of UEs covered (Reward):  30.0\n",
            "-----------------------------episode  294 -----------------------------\n"
          ]
        },
        {
          "output_type": "stream",
          "name": "stderr",
          "text": [
            "\r 98%|█████████▊| 294/300 [02:03<00:02,  2.69it/s]"
          ]
        },
        {
          "output_type": "stream",
          "name": "stdout",
          "text": [
            "no. of UEs covered (Reward):  60.0\n",
            "-----------------------------episode  295 -----------------------------\n"
          ]
        },
        {
          "output_type": "stream",
          "name": "stderr",
          "text": [
            "\r 98%|█████████▊| 295/300 [02:03<00:01,  2.69it/s]"
          ]
        },
        {
          "output_type": "stream",
          "name": "stdout",
          "text": [
            "no. of UEs covered (Reward):  20.0\n",
            "-----------------------------episode  296 -----------------------------\n"
          ]
        },
        {
          "output_type": "stream",
          "name": "stderr",
          "text": [
            "\r 99%|█████████▊| 296/300 [02:03<00:01,  2.60it/s]"
          ]
        },
        {
          "output_type": "stream",
          "name": "stdout",
          "text": [
            "no. of UEs covered (Reward):  260.0\n",
            "-----------------------------episode  297 -----------------------------\n"
          ]
        },
        {
          "output_type": "stream",
          "name": "stderr",
          "text": [
            "\r 99%|█████████▉| 297/300 [02:04<00:01,  2.30it/s]"
          ]
        },
        {
          "output_type": "stream",
          "name": "stdout",
          "text": [
            "no. of UEs covered (Reward):  290.0\n",
            "-----------------------------episode  298 -----------------------------\n"
          ]
        },
        {
          "output_type": "stream",
          "name": "stderr",
          "text": [
            "\r 99%|█████████▉| 298/300 [02:05<00:00,  2.18it/s]"
          ]
        },
        {
          "output_type": "stream",
          "name": "stdout",
          "text": [
            "no. of UEs covered (Reward):  300.0\n",
            "-----------------------------episode  299 -----------------------------\n"
          ]
        },
        {
          "output_type": "stream",
          "name": "stderr",
          "text": [
            "\r100%|█████████▉| 299/300 [02:05<00:00,  2.09it/s]"
          ]
        },
        {
          "output_type": "stream",
          "name": "stdout",
          "text": [
            "no. of UEs covered (Reward):  290.0\n",
            "-----------------------------episode  300 -----------------------------\n"
          ]
        },
        {
          "output_type": "stream",
          "name": "stderr",
          "text": [
            "100%|██████████| 300/300 [02:06<00:00,  2.38it/s]"
          ]
        },
        {
          "output_type": "stream",
          "name": "stdout",
          "text": [
            "no. of UEs covered (Reward):  430.0\n"
          ]
        },
        {
          "output_type": "stream",
          "name": "stderr",
          "text": [
            "\n"
          ]
        }
      ],
      "source": [
        "stats = deep_q_learning(q_networks, policy, 300)"
      ]
    },
    {
      "cell_type": "code",
      "execution_count": 23,
      "metadata": {
        "id": "jK4Tm8kKZw4w"
      },
      "outputs": [],
      "source": [
        "def plot_stats1(stats):\n",
        "    rows = len(stats)\n",
        "    cols = 1\n",
        "\n",
        "    fig, ax = plt.subplots(rows, cols, figsize=(12, 6))\n",
        "\n",
        "    for i, key in enumerate(stats):\n",
        "        vals = stats[key]\n",
        "        \n",
        "        for j in range(len(vals)):\n",
        "            if(torch.is_tensor(vals[j])):\n",
        "                vals[j] = vals[j].detach().numpy()\n",
        "        vals = [np.mean(vals[i-10:i+10]) for i in range(10, len(vals)-10)]\n",
        "        if len(stats) > 1:\n",
        "            ax[i].plot(range(len(vals)), vals)\n",
        "            ax[i].set_title(key, size=18)\n",
        "        else:\n",
        "            ax.plot(range(len(vals)), vals)\n",
        "            ax.set_title(key, size=18)\n",
        "    plt.tight_layout()\n",
        "    plt.show()\n"
      ]
    },
    {
      "cell_type": "code",
      "source": [
        "def run_random_episode():\n",
        "  \n",
        "  state = env.reset()\n",
        "  # print(\"beginning state: \", state[0])\n",
        "  done = False\n",
        "  UAV_positions_list = [state.numpy()[0]]\n",
        "  while not done:\n",
        "    # print(state.numpy())\n",
        "    action = torch.tensor([[[policy(state=torch.flatten(state, end_dim=-1), epsilon=0., UAV_index=i)] for i in range(env.UAV_count)]])\n",
        "    np_action = [act.item() for act in action[0]]\n",
        "    print(np_action)\n",
        "    # action = policy(state, epsilon=0.)\n",
        "    # print(\"action: \", action)\n",
        "    new_state, reward, done, _ = env.step(np_action)\n",
        "    # print(\"new_state: \", new_state[0][:2])\n",
        "    state = new_state\n",
        "    UAV_positions_list.append(state.numpy()[0])\n",
        "\n",
        "  UAV_positions_list = np.array(UAV_positions_list)\n",
        "  # print(UAV_positions_list)\n",
        "  # print(UAV_positions_list[:, 0, 0])\n",
        "  env.render_UAV_movement_through_episode(UAV_positions_list = UAV_positions_list)\n",
        "  return\n",
        "\n",
        "run_random_episode()"
      ],
      "metadata": {
        "colab": {
          "base_uri": "https://localhost:8080/",
          "height": 1000
        },
        "id": "FZCz5-lo1YU-",
        "outputId": "50139401-25ce-4918-8659-2aac4778157a"
      },
      "execution_count": 24,
      "outputs": [
        {
          "output_type": "stream",
          "name": "stdout",
          "text": [
            "[3, 2, 6]\n",
            "[3, 2, 6]\n",
            "[3, 2, 6]\n",
            "[3, 2, 2]\n",
            "[3, 2, 6]\n",
            "[3, 2, 2]\n",
            "[3, 2, 6]\n",
            "[3, 2, 2]\n",
            "[3, 2, 6]\n",
            "[3, 2, 6]\n",
            "[3, 2, 2]\n",
            "[3, 2, 6]\n",
            "[3, 2, 2]\n",
            "[3, 2, 6]\n",
            "[3, 2, 2]\n",
            "[3, 2, 6]\n",
            "[3, 2, 2]\n",
            "[3, 2, 6]\n",
            "[3, 2, 2]\n",
            "[3, 2, 6]\n",
            "[3, 2, 2]\n",
            "[3, 2, 6]\n",
            "[3, 2, 2]\n",
            "[3, 2, 6]\n",
            "[3, 2, 2]\n",
            "[3, 2, 6]\n",
            "[3, 2, 2]\n",
            "[3, 2, 6]\n",
            "[3, 2, 2]\n",
            "[3, 2, 6]\n",
            "[3, 2, 2]\n",
            "[3, 2, 6]\n",
            "[3, 2, 2]\n",
            "[3, 2, 6]\n",
            "[3, 2, 2]\n",
            "[3, 2, 6]\n",
            "[3, 2, 2]\n",
            "[3, 2, 6]\n",
            "[3, 2, 2]\n",
            "[3, 2, 6]\n",
            "[3, 2, 2]\n",
            "[3, 2, 6]\n",
            "[3, 2, 2]\n",
            "[3, 2, 6]\n",
            "[3, 2, 2]\n",
            "[3, 2, 6]\n",
            "[3, 2, 2]\n",
            "[3, 2, 6]\n",
            "[3, 2, 2]\n",
            "[3, 2, 6]\n"
          ]
        },
        {
          "output_type": "display_data",
          "data": {
            "text/plain": [
              "<Figure size 1000x1000 with 1 Axes>"
            ],
            "image/png": "[encoded data removed]"
          },
          "metadata": {}
        }
      ]
    },
    {
      "cell_type": "code",
      "source": [
        "env.get_count_of_UEs_covered()"
      ],
      "metadata": {
        "colab": {
          "base_uri": "https://localhost:8080/"
        },
        "id": "YECxdnB0R9-O",
        "outputId": "5e13954c-4747-49bf-b4e1-ad67d88339bf"
      },
      "execution_count": 25,
      "outputs": [
        {
          "output_type": "execute_result",
          "data": {
            "text/plain": [
              "24"
            ]
          },
          "metadata": {},
          "execution_count": 25
        }
      ]
    },
    {
      "cell_type": "markdown",
      "metadata": {
        "id": "_6qBXCOOZw4w"
      },
      "source": [
        "## Show results"
      ]
    },
    {
      "cell_type": "markdown",
      "metadata": {
        "id": "08wmj1aFZw4w"
      },
      "source": [
        "### Plot execution stats"
      ]
    },
    {
      "cell_type": "code",
      "execution_count": 26,
      "metadata": {
        "colab": {
          "base_uri": "https://localhost:8080/",
          "height": 607
        },
        "id": "FFT-dXQdZw4w",
        "outputId": "bba1f4b6-840a-41f1-f7bf-55c9545c96bc"
      },
      "outputs": [
        {
          "output_type": "display_data",
          "data": {
            "text/plain": [
              "<Figure size 1200x600 with 2 Axes>"
            ],
            "image/png": "[encoded data removed]"
          },
          "metadata": {}
        }
      ],
      "source": [
        "plot_stats1(stats)"
      ]
    },
    {
      "cell_type": "markdown",
      "metadata": {
        "id": "no0jfGc0Zw4w"
      },
      "source": [
        "### Test the resulting agent"
      ]
    },
    {
      "cell_type": "code",
      "execution_count": null,
      "metadata": {
        "colab": {
          "base_uri": "https://localhost:8080/",
          "height": 166
        },
        "id": "fGXuETsYZw4w",
        "outputId": "9b0a6703-1463-4ae9-9c5b-59ecfd01d11c"
      },
      "outputs": [
        {
          "output_type": "error",
          "ename": "NameError",
          "evalue": "ignored",
          "traceback": [
            "\u001b[0;31m---------------------------------------------------------------------------\u001b[0m",
            "\u001b[0;31mNameError\u001b[0m                                 Traceback (most recent call last)",
            "\u001b[0;32m<ipython-input-84-e6a01ce2437c>\u001b[0m in \u001b[0;36m<module>\u001b[0;34m\u001b[0m\n\u001b[0;32m----> 1\u001b[0;31m \u001b[0mtest_agent\u001b[0m\u001b[0;34m(\u001b[0m\u001b[0menv\u001b[0m\u001b[0;34m,\u001b[0m \u001b[0mpolicy\u001b[0m\u001b[0;34m,\u001b[0m \u001b[0mepisodes\u001b[0m\u001b[0;34m=\u001b[0m\u001b[0;36m2\u001b[0m\u001b[0;34m)\u001b[0m\u001b[0;34m\u001b[0m\u001b[0;34m\u001b[0m\u001b[0m\n\u001b[0m",
            "\u001b[0;31mNameError\u001b[0m: name 'test_agent' is not defined"
          ]
        }
      ],
      "source": [
        "test_agent(env, policy, episodes=2)"
      ]
    },
    {
      "cell_type": "code",
      "execution_count": null,
      "metadata": {
        "id": "cNkcJkZ3Zw4x"
      },
      "outputs": [],
      "source": [
        "env.close()"
      ]
    },
    {
      "cell_type": "markdown",
      "source": [
        "#Trash"
      ],
      "metadata": {
        "id": "JCX7jW7o_U4M"
      }
    },
    {
      "cell_type": "code",
      "source": [
        "import matplotlib.pyplot as plt\n",
        "\n",
        "ls = [100.0, 97.71468590788739, 100.0, 90.20310184727836, 100.0, 99.9807159721745, \\\n",
        "    100.0, 91.83619157234803, 96.84593377931832, 99.86729696677925, 100.0, \\\n",
        "    98.92288465866825, 67.56989771799269, 99.83987432491959, 99.59146585463486, \\\n",
        "    100.0, 98.98334612401706, 100.0, 100.0, 100.0, 62.18123349512672, 99.2619241988031, \\\n",
        "    97.55065082008623, 95.50112195207895, 100.0, 100.0, 100.0, 100.0, 100.0, \\\n",
        "    99.8929108599519, 95.2757281046626, 100.0, 99.69976668780754, 100.0, 100.0, \\\n",
        "    98.49650425768503, 88.25113160956573, 99.97177575781565]\n",
        "plt.hist(ls, bins=160, range=[0, 100], facecolor='gray', align='mid')\n",
        "plt.show()"
      ],
      "metadata": {
        "colab": {
          "base_uri": "https://localhost:8080/",
          "height": 432
        },
        "id": "EyKXe0fL_SXa",
        "outputId": "377a16a4-bc33-42ec-b3a8-3c3d3a422416"
      },
      "execution_count": null,
      "outputs": [
        {
          "output_type": "display_data",
          "data": {
            "text/plain": [
              "<Figure size 640x480 with 1 Axes>"
            ],
            "image/png": "[encoded data removed]"
          },
          "metadata": {}
        }
      ]
    },
    {
      "cell_type": "code",
      "source": [],
      "metadata": {
        "id": "ts3CK7R8_XxV"
      },
      "execution_count": null,
      "outputs": []
    }
  ],
  "metadata": {
    "kernelspec": {
      "display_name": "Python 3 (ipykernel)",
      "language": "python",
      "name": "python3"
    },
    "language_info": {
      "codemirror_mode": {
        "name": "ipython",
        "version": 3
      },
      "file_extension": ".py",
      "mimetype": "text/x-python",
      "name": "python",
      "nbconvert_exporter": "python",
      "pygments_lexer": "ipython3",
      "version": "3.9.12"
    },
    "colab": {
      "provenance": []
    },
    "gpuClass": "standard",
    "accelerator": "GPU"
  },
  "nbformat": 4,
  "nbformat_minor": 0
}